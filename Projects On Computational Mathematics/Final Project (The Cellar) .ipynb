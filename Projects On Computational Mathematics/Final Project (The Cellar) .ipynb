{
 "cells": [
  {
   "cell_type": "markdown",
   "metadata": {},
   "source": [
    "$\\textbf{The Cellar}:$ Neglecting the curvature of the Earth and the diurnal (daily) variation of temperature, the distribution of temperature $u(t, x)$ at a depth $x$ and a time $t$ is given by the Heat equation:\n",
    "\n",
    "\\begin{equation}\n",
    "\\frac{ \\partial u}{ \\partial t} = \\kappa \\frac{\\partial^2 u}{\\partial x^2} \\qquad (1)\n",
    "\\end{equation}\n",
    "\n",
    "\n",
    "Here $\\kappa$ is thermometric diffusivity of soil whose value is approximately $\\kappa = 2 * 10^{-3} \\text{cm}^2/\\text{sec}$ (the fundamental time scale is a year, $3.15 \\times 10^7 sec$. Assume the temperature at the surface of the Earth ($x = 0$) has a simple sinusoidal variation, $u(t, 0) = A \\text{sin}(2\\pi t/Y )$, with a period of one year $Y$ . The temperature $u$ should decay to zero as $x \\to \\infty$.\n",
    "\n",
    "> (a) Show that the backward (implicit Euler) difference scheme for (1) is consistent and unconditionally stable. What is the order of the scheme?\n",
    "\n",
    "> (b) Implement the backward difference scheme to find a numerical approximation to (1). Consider the initial condition $u(t_0,x) = u(t_0,0)e^{q_1x}$, where $q_1 = 0.71m^{-1}$ and $t_0$ is your initial time. For your computational spatial domain take a suffciently long interval so that the right-end boundary condition $u = 0$ can be used. Select $\\Delta t$ and $\\Delta x$ small enough to resolve well the numerical solution. Plot the numerical solution at several times.\n",
    "\n",
    "> (c) From your numerical solution, find (e.g. graphically) the depth $x^{\\star}$ at which the temperature is opposite in phase to the surface temperature, i.e, it is summer at $x^{\\star}$ when is winter at the surface. Note that the temperature variation at $x^{\\star}$ is much smaller than that at the surface. This makes the depth $x^{\\star}$ ideal for a wine cellar or vegetable storage.\n"
   ]
  },
  {
   "cell_type": "markdown",
   "metadata": {},
   "source": [
    "We will start answering this project by showing that the backward time difference scheme is consistent and unconditionally stable. \n",
    "\n",
    "**Consistency** means that for the given system of equations (in our case, non-linear), there exist at least one set of values for the unknowns that satisfies each equation in the system. This is important to prove because we need consistency in our system to produce an accurate approximations of the Heat Equation. "
   ]
  },
  {
   "cell_type": "markdown",
   "metadata": {},
   "source": [
    "Backward Difference Scheme (Implicit Euler) can be written as\n",
    "$$ \\frac{ u_j^{n+1} - u_j^n }{\\Delta t} = D \\frac{ u_{j+1}^{n+1} - 2u_{j}^{n+1} + u_{j-1}^{n+1} }{ (\\Delta x)^2 } \\qquad (\\star) $$\n",
    "\n",
    "Furhter, \n",
    "\\begin{equation}\n",
    "\\begin{split}\n",
    "u_t(t_{n+1}, x_j) & = \\frac{ u_j^{n+1} - u_j^n }{\\Delta t}\\\\\n",
    "u_{xx}(t_{n+1}, x_j) & = \\frac{ u_{j+1}^{n+1} - 2u_{j}^{n+1} + u_{j-1}^{n+1} }{ (\\Delta x)^2 }\n",
    "\\end{split}\n",
    "\\end{equation}"
   ]
  },
  {
   "cell_type": "markdown",
   "metadata": {},
   "source": [
    "To check the $\\textbf{consistency}$ of the backward difference scheme, we will use taylor series and the definition of truncation error. The Local Truncation for Backward Difference scheme at $(t_{n+1}, x_j)$ becomes \n",
    "\n",
    "$$\\tau_{j}^{n+1}(\\Delta t, \\Delta x) = \\frac{ u_j^{n+1} - u_j^n }{\\Delta t} - \\frac{ u_{j+1}^{n+1} - 2u_{j}^{n+1} + u_{j-1}^{n+1} }{ (\\Delta x)^2 } $$\n",
    "\n",
    "\n",
    "Let us expand the terms in the backward difference scheme one by one using Taylor series expansion centered at $(t_{n+1}, x_j)$. We will get \n",
    "\n",
    "\\begin{equation}\n",
    "\\begin{split}\n",
    "u(t_n, x_j) & = u(t_{n+1}, x_j) - (\\Delta t) u_t(t_{n+1}, x_j) + \\frac{(\\Delta t)^2}{2!} u_{tt}(t_{n+1}, x_j) + O(\\Delta t)^3\\\\\n",
    "u(t_{n+1}, x_{j-1}) & = u(t_{n+1}, x_j) - (\\Delta t) u_x(t_{n+1}, x_j) + \\frac{(\\Delta t)^2}{2!} u_{xx}(t_{n+1}, x_j) - \\frac{(\\Delta t)^2}{3!} u_{xxx}(t_{n+1}, x_j) + \\\\ &\\qquad \\qquad\\qquad\\qquad \\frac{(\\Delta t)^2}{4!}u_{xxxx}(t_{n+1}, x_j) + O(\\Delta x)^5 \\\\\n",
    "u(t_{n+1}, x_{j+1}) & = u(t_{n+1}, x_j) + (\\Delta t) u_x(t_{n+1}, x_j) + \\frac{(\\Delta t)^2}{2!} u_{xx}(t_{n+1}, x_j) + \\frac{(\\Delta t)^2}{3!} u_{xxx}(t_{n+1}, x_j) + \\\\ &\\qquad \\qquad\\qquad\\qquad \\frac{(\\Delta t)^2}{4!} u_{xxxx}(t_{n+1}, x_j) +  O(\\Delta x)^5 \n",
    "\\end{split}\n",
    "\\end{equation}"
   ]
  },
  {
   "cell_type": "markdown",
   "metadata": {},
   "source": [
    "We can subsitute the above expanded terms in the first half of the LTE as \n",
    "\n",
    "\\begin{equation}\n",
    "\\frac{ u_j^{n+1} - u_j^n }{\\Delta t} =   u_t(t_{n+1}, x_j) - \\frac{(\\Delta t)}{2!} u_{tt}(t_{n+1}, x_j) + O(\\Delta t)^2 \n",
    "\\end{equation}"
   ]
  },
  {
   "cell_type": "markdown",
   "metadata": {},
   "source": [
    "and \n",
    "\\begin{equation}\n",
    "\\begin{split}\n",
    "D \\bigg( \\frac{ u_{j+1}^{n+1} - 2u_{j}^{n+1} + u_{j-1}^{n+1} }{ (\\Delta x)^2 } \\bigg)  = \\frac{D}{(\\Delta x)^2} \\bigg(  u(t_{n+1}, x_j) & + (\\Delta x) u_x(t_{n+1}, x_j) + \\frac{(\\Delta x)^2}{2!} u_{xx}(t_{n+1}, x_j)  \\\\ + \\frac{(\\Delta x)^3}{3!} u_{xxx}(t_{n+1}, x_j) + \\frac{(\\Delta x)^4}{4!} u_{xxxx}(t_{n+1}, x_j) & - 2u(t_{n+1}, x_j) + u(t_{n+1}, x_j) - (\\Delta x) u_x(t_{n+1}, x_j) \\\\ + \\frac{(\\Delta x)^2}{2!} u_{xx}(t_{n+1}, x_j)  - \\frac{(\\Delta x)^3}{3!} u_{xxx}(t_{n+1}, x_j) &  +  \\frac{(\\Delta x)^4}{4!}u_{xxxx}(t_{n+1}, x_j) \\\\ + O(\\Delta x)^5 \\bigg) \n",
    "\\end{split}\n",
    "\\end{equation}\n",
    "\n",
    "\n",
    "We can cancel/combine the like terms to get \n",
    "\n",
    "$$ D \\bigg( \\frac{ u_{j+1}^{n+1} - 2u_{j}^{n+1} + u_{j-1}^{n+1} }{ (\\Delta x)^2 } \\bigg)  =  D \\bigg( (\\Delta x)^2 u_{xx}(t_{n+1}, x_j) + \\frac{(\\Delta x)^4}{12}u_{xxxx}(t_{n+1}, x_j) + O(\\Delta x)^5 \\bigg) $$"
   ]
  },
  {
   "cell_type": "markdown",
   "metadata": {},
   "source": [
    "Now, putting it all togther, we have \n",
    "\\begin{equation}\n",
    "\\begin{split}\n",
    "\\tau_{j}^{n+1}(\\Delta t, \\Delta x) &=  \\underbrace{u_t (t_{n+1}, x_j)}_{cancels} - \\frac{(\\Delta t)}{2!} u_{tt}(t_{n+1}, x_j) + O(\\Delta t)^2 -  \\\\ &\\qquad \\qquad\\qquad\\qquad D \\bigg( \\underbrace{u_{xx}(t_{n+1}, x_j)}_{cancels} + \\frac{(\\Delta x)^2}{12}u_{xxxx}(t_{n+1}, x_j) + O(\\Delta x)^3 \\bigg)\\\\\n",
    "\\tau_{j}^{n+1}(\\Delta t, \\Delta x) &=   - \\frac{(\\Delta t)}{2!} u_{tt}(t_{n+1}, x_j) + O(\\Delta t)^2 -  D \\bigg( \\frac{(\\Delta x)^2}{12}u_{xxxx}(t_{n+1}, x_j) + O(\\Delta x)^3 \\bigg)\n",
    "\\end{split}\n",
    "\\end{equation}\n",
    "\n",
    "Hence $\\tau_{j}^{n+1}(\\Delta t, \\Delta x) \\to 0$ as $\\Delta t \\to 0$ and $\\Delta x \\to 0$.\n",
    "\n",
    "Therefore, this proves that Backward Difference Time Method is consistency at all points.\n",
    "\n",
    "From the above equation, we can infer that the order of the scheme is $O(\\Delta t)^2, (\\Delta x^3))$."
   ]
  },
  {
   "cell_type": "markdown",
   "metadata": {},
   "source": [
    "Now, let's check the $\\textbf{convergence}$ of the given scheme.\n",
    "\n",
    "Let$\\alpha = \\frac{D \\Delta t}{(\\Delta x)^2}$. Then above can also be written as \n",
    "$$ u_j^{n+1} = u_j^{n} + \\alpha \\bigg( u_{j-1}^{n+1} - 2 u_{j}^{n+1} + u_{j+1}^{n+1}\\bigg) $$\n",
    "$$ \\Rightarrow u_j^{n+1} - u_j^{n} = \\alpha \\bigg( u_{j-1}^{n+1} - 2 u_{j}^{n+1} + u_{j+1}^{n+1}\\bigg) $$\n",
    "\n",
    "We can do von Neunmann analysis on the backward difference scheme to prove that (1) is unconditionally stable.\n",
    "\n",
    "Subsitute $u_M^n = \\xi^n e^{ikj\\Delta x}$ in the above equation.\n",
    "$$ \\Rightarrow \\xi^{n+1} e^{ik(j+1)\\Delta x} - \\xi^n e^{ikj\\Delta x} = \\alpha \\bigg(\\xi^{n+1} e^{ik(j+1)\\Delta x} - 2\\xi^{n+1} e^{ikj\\Delta x} + \\xi^{n+1} e^{ik(j-1)\\Delta x} \\bigg)$$\n",
    "Dividing by $\\xi^{n}e^{ikj\\Delta x}$\n",
    "$$ \\Rightarrow \\xi - 1 = \\alpha \\xi \\bigg( e^{-ik\\Delta x} -2 + e^{ik\\Delta x} \\bigg) $$\n",
    "\n",
    "$$ \\Rightarrow \\xi \\bigg( 1-2\\alpha (\\text{cos}(k \\Delta x) -1 ) \\bigg) = 1 $$\n",
    "$$ \\Rightarrow \\xi \\bigg( 1-2\\alpha (-\\text{sin}^2( \\frac{k \\Delta x}{2})) \\bigg) = 1 $$\n",
    "$$ \\Rightarrow \\xi = \\frac{1}{1 + 4 \\alpha \\text{sin}^2(\\frac{k\\Delta x}{2})  } $$\n",
    "Note that $\\alpha > 0$ and $\\text{sin}^2(a) \\geq 1\\quad \\forall\\ a\\ \\in \\mathcal{R}$\n",
    "\n",
    "Then, \n",
    "$$ \\xi \\leq \\frac{1}{1+0} = 1 $$\n",
    "\n",
    "This is exactly what we need to show to prove that the scheme is $\\textbf{unconditionally stable}$."
   ]
  },
  {
   "cell_type": "markdown",
   "metadata": {},
   "source": [
    "Before jumping into the implementation of the implicit Backward Time difference method, we will perform simplification of the method to ease the coding. \n",
    "\n",
    "Implicit Euler Backward time difference scheme can be written as\n",
    "$$ u_j^{n+1} - u_j^n = \\alpha ( u_{j-1}^{n+1} - 2u_j^{n+1} + u_{j+1}^{n+1} ) $$\n",
    "\n",
    "\n",
    "For $j=1$,\n",
    "$$  (1 + 2\\alpha) u_1^{n+1} -  \\alpha u_{2}^{n+1}  = u_{1}^{n}  + \\underbrace{\\alpha u_{0}^{n+1}}_{\\text{initial condition}} $$\n",
    "\n",
    "\n",
    "For $j=2, \\ldots, M-2$,\n",
    "$$ - \\alpha u_{j-1}^{n+1} + (1 + 2\\alpha) u_j^{n+1} -  \\alpha u_{j+1}^{n+1}  = u_{j}^{n} $$\n",
    "$$ \\vdots $$\n",
    "$$ \\vdots $$\n",
    "\n",
    "For $j=M-1$\n",
    "$$ - \\alpha u_{M-2}^{n+1} + (1 + 2\\alpha) u_{M-1}^{n+1} -  \\underbrace{\\alpha u_{M}^{n+1}}_{\\text{boundary condition}}  = u_{M-1}^{n} $$\n",
    "\n",
    "We can represent the above equations as a system of linear equations."
   ]
  },
  {
   "cell_type": "markdown",
   "metadata": {},
   "source": [
    "Let $u^n = \\begin{pmatrix} u_1^n \\\\ u_2^n \\\\ \\vdots \\\\ u_{M-2}^n  \\end{pmatrix}$.\n",
    "\n",
    "Then \n",
    "$$ u^{n+1} - u^n =  \\underbrace{\n",
    "\\begin{pmatrix} \n",
    "1+2 \\alpha & -\\alpha & 0 & \\ldots & 0 & 0 & 0 \\\\\n",
    "-\\alpha & 1+2 \\alpha & -\\alpha & \\ldots & 0 & 0 & 0 \\\\\n",
    "0 & -\\alpha & 1+2 \\alpha & \\ldots & 0 & 0 & 0\\\\\n",
    " & \\vdots & & & & \\vdots & & \\\\\n",
    "0 & 0 & 0 & \\ldots & 1+2 \\alpha & -\\alpha & 0\\\\\n",
    "0 & 0 & 0 & \\ldots & -\\alpha & 1+2 \\alpha & -\\alpha\\\\\n",
    "0 & 0 & 0 & \\ldots & 0 & -\\alpha & 1+2 \\alpha\n",
    "\\end{pmatrix}}_{\\Large{A}}u^{n+1} $$\n",
    "\n",
    "$$ \\Rightarrow u^{n+1} - u^n = Au^{n+1} $$ \n",
    "\n",
    "Thus \n",
    "$$ \\Rightarrow (I - A)u^{n+1} = u^n \\qquad (\\star \\star)$$\n",
    "\n",
    "Instead of solving the equation of backward time difference scheme, we only need to calculate a tridiagonal system of equations. This makes our computational load much lighter."
   ]
  },
  {
   "cell_type": "code",
   "execution_count": 1,
   "metadata": {},
   "outputs": [],
   "source": [
    "# Importing the libraries\n",
    "import numpy as np\n",
    "import math\n",
    "import matplotlib.pyplot as plt\n",
    "from copy import deepcopy"
   ]
  },
  {
   "cell_type": "markdown",
   "metadata": {},
   "source": [
    "The below code block constructs the tridiagonal matrix, $(\\star \\star)$."
   ]
  },
  {
   "cell_type": "code",
   "execution_count": 2,
   "metadata": {},
   "outputs": [
    {
     "name": "stdout",
     "output_type": "stream",
     "text": [
      "Thus we have our matrix A ready with the choice of alpha =  0.25 .\n",
      "\n",
      " [[ 1.5  -0.25  0.    0.    0.  ]\n",
      " [-0.25  1.5  -0.25  0.    0.  ]\n",
      " [ 0.   -0.25  1.5  -0.25  0.  ]\n",
      " [ 0.    0.   -0.25  1.5  -0.25]\n",
      " [ 0.    0.    0.   -0.25  1.5 ]]\n"
     ]
    }
   ],
   "source": [
    "# Defining the Tridiagonal Matrix\n",
    "def construct_tridiagonal_matrix(n, alpha):\n",
    "    A = 2 * np.eye(n)\n",
    "    for i in range(0, n-1):\n",
    "        A[i][i+1] = -1\n",
    "        A[i+1][i] = -1\n",
    "    \n",
    "    return np.eye(n) + alpha * A\n",
    "\n",
    "n = 5\n",
    "alpha = 0.25\n",
    "matrix = construct_tridiagonal_matrix(n, alpha)\n",
    "print(\"Thus we have our matrix A ready with the choice of alpha = \", alpha, \".\\n\\n\", matrix)"
   ]
  },
  {
   "cell_type": "markdown",
   "metadata": {},
   "source": [
    "The below code block is for the tridiagonal solver that we need to implement our backward time difference scheme."
   ]
  },
  {
   "cell_type": "code",
   "execution_count": 3,
   "metadata": {},
   "outputs": [
    {
     "name": "stdout",
     "output_type": "stream",
     "text": [
      "Using Thomas Algorithm, we get the result  [ 0.14877589  0.75612053 -1.00188324  2.25141243]  and using linear algebra solver, we get  [ 0.14877589  0.75612053 -1.00188324  2.25141243]\n"
     ]
    }
   ],
   "source": [
    "# Algorithm to solve the tridiagonal matrix\n",
    "def thomas_alorithm(A, B):\n",
    "    A = deepcopy(A)\n",
    "    B = deepcopy(B)\n",
    "    \n",
    "    n = len(A)\n",
    "    \n",
    "    a,b,c = map(np.array,  ([A[i+1][i] for i in range(n-1)],\n",
    "                                [A[i][i] for i in range(n)],\n",
    "                                [A[i][i+1] for i in range(n-1)]))\n",
    "    d = B\n",
    "        \n",
    "    for j in range(1,n):\n",
    "        w = a[j-1] / b[j-1]\n",
    "        b[j] -= w * c[j-1]\n",
    "        d[j] -= w * d[j-1]\n",
    "            \n",
    "    result = b\n",
    "    result[-1] = d[-1] / b[-1]\n",
    "\n",
    "    for j in range(n-2, -1, -1):\n",
    "        result[j] = (d[j] - c[j]* result[j+1])/b[j]\n",
    "            \n",
    "    return result\n",
    "\n",
    "A = np.array([[10,2,0,0],[3,10,4,0],[0,1,7,5],[0,0,3,4]],dtype=float)   \n",
    "d = np.array([3,4,5,6.])\n",
    "\n",
    "print(\"Using Thomas Algorithm, we get the result \", thomas_alorithm(A, d), \" and using linear algebra solver, we get \", np.linalg.solve(A, d))"
   ]
  },
  {
   "cell_type": "markdown",
   "metadata": {},
   "source": [
    "The below code block intialize the first array (vector) for the scheme, the temperature at the surface of the earth at the initial time."
   ]
  },
  {
   "cell_type": "code",
   "execution_count": 4,
   "metadata": {},
   "outputs": [],
   "source": [
    "def calculate_u_t(t):\n",
    "    A = 20\n",
    "    q_1 = 0.71\n",
    "    Y = 3.15e7\n",
    "    u_t = A*np.sin(2 * np.pi * t / Y) \n",
    "    \n",
    "    return u_t\n",
    "\n",
    "\n",
    "def calculate_u_init(t, x_values):\n",
    "    A = 20\n",
    "    q_1 = 0.71\n",
    "    Y = 3.15e7\n",
    "    u_init = calculate_u_t(t) * np.exp(-q_1 * x_values)\n",
    "    \n",
    "    return u_init\n",
    "\n",
    "# x_values is the distance (in meters) from the surface of the Earth\n",
    "x_values = np.linspace(0, 10, 51)\n",
    "t_0 = 0.0                           # t_0 is the initial temperature at the surface of the Earth\n",
    "Y = 3.15e7\n",
    "\n",
    "u_init = calculate_u_init(t_0, x_values)\n",
    "# print(u_init)"
   ]
  },
  {
   "cell_type": "markdown",
   "metadata": {},
   "source": [
    "Below is the code for Backward difference Scheme function."
   ]
  },
  {
   "cell_type": "code",
   "execution_count": 5,
   "metadata": {},
   "outputs": [],
   "source": [
    "kappa = (2e-3) * (1e-4)\n",
    "delta_x = x_values[1] - x_values[0]\n",
    "delta_t = Y/500      # 500 reperesents the number of points we are going to consider\n",
    "alpha = kappa * delta_t/(delta_x**2)\n",
    "\n",
    "\n",
    "def backward_fd(t_0, u_init, alpha, delta_t, N, timesteps_to_display):\n",
    "    M = len(u_init)\n",
    "    t_curr = t_0\n",
    "    \n",
    "    u_curr = u_init[1:-1]\n",
    "    A = construct_tridiagonal_matrix(M-2, alpha)\n",
    "    \n",
    "    results = []\n",
    "    \n",
    "    if 0 in timesteps_to_display:\n",
    "        results.append(deepcopy(u_curr))\n",
    "    \n",
    "    for i in range(1, N+1):\n",
    "        t_curr += delta_t\n",
    "        \n",
    "        b = u_curr\n",
    "        b[0] += alpha*calculate_u_t(t_curr)\n",
    "        \n",
    "        u_curr = thomas_alorithm(A, b)\n",
    "        \n",
    "        if i in timesteps_to_display:\n",
    "            result = np.concatenate(( [calculate_u_t(t_curr)], u_curr, [0.01]))\n",
    "            results.append(result)\n",
    "            \n",
    "    return results\n",
    "                \n",
    "timesteps_to_display = np.zeros(101)\n",
    "for i in range(101):\n",
    "    timesteps_to_display[i] = int(i * 5)\n",
    "\n",
    "u_approxs = backward_fd(t_0, u_init, alpha, delta_t, 1000, timesteps_to_display)"
   ]
  },
  {
   "cell_type": "markdown",
   "metadata": {},
   "source": [
    "Below are the plots for the approximations that we calculated for the problem. "
   ]
  },
  {
   "cell_type": "code",
   "execution_count": 6,
   "metadata": {},
   "outputs": [
    {
     "data": {
      "text/plain": [
       "[<matplotlib.lines.Line2D at 0x7fd3694ce910>]"
      ]
     },
     "execution_count": 6,
     "metadata": {},
     "output_type": "execute_result"
    },
    {
     "data": {
      "image/png": "[encoded data removed]",
      "text/plain": [
       "<Figure size 720x720 with 6 Axes>"
      ]
     },
     "metadata": {
      "needs_background": "light"
     },
     "output_type": "display_data"
    }
   ],
   "source": [
    "number_of_plots = 5\n",
    "\n",
    "fig, axs = plt.subplots(3, 2, figsize = (10, 2*number_of_plots))\n",
    "temp_to_display = [10, -10, 20, -20, 50, 100]\n",
    "\n",
    "axs[0, 0].set_title('Numerical Solution for the Cellar')\n",
    "axs[0, 0].set_ylabel('Temperature (in celsius)')\n",
    "axs[0, 0].plot(x_values, u_approxs[temp_to_display[0]])\n",
    "axs[0, 1].set_title('Numerical Solution for the Cellar')\n",
    "axs[0, 1].set_ylabel('Temperature (in celsius)')\n",
    "axs[0, 1].plot(x_values, u_approxs[temp_to_display[1]])\n",
    "axs[1, 0].set_ylabel('Temperature (in celsius)')\n",
    "axs[1, 0].plot(x_values, u_approxs[temp_to_display[2]])\n",
    "axs[1, 1].set_ylabel('Temperature (in celsius)')\n",
    "axs[1, 1].plot(x_values, u_approxs[temp_to_display[3]])\n",
    "axs[2, 0].set_ylabel('Temperature (in celsius)')\n",
    "axs[2, 0].set_xlabel('Distance from the surface of the Earth (in meters)')\n",
    "axs[2, 0].plot(x_values, u_approxs[temp_to_display[4]])\n",
    "axs[2, 1].set_ylabel('Temperature (in celsius)')\n",
    "axs[2, 1].set_xlabel('Distance from the surface of the Earth (in meters)')\n",
    "axs[2, 1].plot(x_values, u_approxs[temp_to_display[5]])"
   ]
  },
  {
   "cell_type": "markdown",
   "metadata": {},
   "source": [
    "Now, to determine the depth at which the temperature is opposite in phase to the surface temperature, we  observe the plots.\n",
    "\n",
    "For example, if we look at the first plot, which has the initial temperature of $10^o$ Celsius on the surface of the Earth, the oppposite phase to it would be a temp near $10^o$ Celsius, which is observed to be between $3$ and $4$ meters from the surface of the Earth. \n",
    "\n",
    "Similarly, if we look at the second plot which has the initial temperature of approximately $-11^o$ Celsius on the surface of the Earth, then the opposite phase to it would be a temperature above $0^o$ Celsius which is between $3$ and $4$ meters from the surface of the Earth.\n",
    "\n",
    "Looking at the other plots, we can conclude that the opposite phase to the surface temperature is occuring at approximately between 3 and 4 meters from the surface of the Earth."
   ]
  }
 ],
 "metadata": {
  "kernelspec": {
   "display_name": "Python 3",
   "language": "python",
   "name": "python3"
  },
  "language_info": {
   "codemirror_mode": {
    "name": "ipython",
    "version": 3
   },
   "file_extension": ".py",
   "mimetype": "text/x-python",
   "name": "python",
   "nbconvert_exporter": "python",
   "pygments_lexer": "ipython3",
   "version": "3.8.5"
  }
 },
 "nbformat": 4,
 "nbformat_minor": 4
}
