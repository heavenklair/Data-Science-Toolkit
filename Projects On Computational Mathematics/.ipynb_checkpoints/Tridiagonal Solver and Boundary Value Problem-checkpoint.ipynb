{
 "cells": [
  {
   "cell_type": "markdown",
   "metadata": {},
   "source": [
    "# Tridiagonal Solver and Boundary Value Problem"
   ]
  },
  {
   "cell_type": "markdown",
   "metadata": {},
   "source": [
    "#### Implement the tridiagonal solver. (b) Test your implementation."
   ]
  },
  {
   "cell_type": "code",
   "execution_count": 1,
   "metadata": {},
   "outputs": [],
   "source": [
    "import numpy as np\n",
    "import math\n",
    "import matplotlib.pyplot as plt"
   ]
  },
  {
   "cell_type": "code",
   "execution_count": 2,
   "metadata": {},
   "outputs": [],
   "source": [
    "def MDS(a,b,c,d):\n",
    "    n = len(d)\n",
    "    m = np.zeros(n)\n",
    "    l = np.zeros(n-1)\n",
    "    y = np.zeros((n), dtype=float)\n",
    "    \n",
    "    m[0] = a[0]\n",
    "    for j in range(0, n-1):\n",
    "        l[j] = c[j]/m[j]\n",
    "        m[j+1] = a[j+1] - (l[j] * b[j])\n",
    "   \n",
    "    # With this we solved for for L and U factorization \n",
    "    # We do forward subsitution on Ly = d\n",
    "    y[0] = d[0]\n",
    "    for j in range(1, n):\n",
    "        y[j] = d[j] - (l[j-1] * y[j-1])\n",
    "    \n",
    "    \n",
    "    # We do backward subsitution afer this on Ux = y\n",
    "    x = np.zeros(n)\n",
    "    x[n-1]=y[n-1]/m[n-1]\n",
    "    \n",
    "    for j in range(n-2, -1, -1):\n",
    "        x[j] = (y[j] - b[j]*x[j+1])/m[j]\n",
    "    \n",
    "    return(x)"
   ]
  },
  {
   "cell_type": "code",
   "execution_count": 3,
   "metadata": {},
   "outputs": [
    {
     "data": {
      "text/plain": [
       "array([ 1.046875  , -0.18229167, -0.296875  ,  1.53125   ])"
      ]
     },
     "execution_count": 3,
     "metadata": {},
     "output_type": "execute_result"
    }
   ],
   "source": [
    "b = np.array([6,2,4])\n",
    "a = np.array([2,3,5,3]) \n",
    "c = np.array([3,9,2])\n",
    "d = np.array([1,2,3,4])\n",
    "MDS(a,b,c,d)"
   ]
  },
  {
   "cell_type": "markdown",
   "metadata": {},
   "source": [
    "The printed output is the solution to the tridiagonal matrix, and we can check that it is correct."
   ]
  },
  {
   "cell_type": "markdown",
   "metadata": {},
   "source": [
    "Consider the boundary value problem:\n",
    "\n",
    "\\begin{equation}\n",
    "\\begin{split}\n",
    "-u'' + \\pi^2 u &= 2 \\pi^2 \\text{sin}(\\pi x) \\qquad 0 < x < 1\\\\\n",
    "u(0) = u(1) &= 0\n",
    "\\end{split}\n",
    "\\end{equation}\n",
    "\n",
    "We can find a numerical approximation to the solution of this problem by employing the finite difference method. Use a uniform grid with $N − 1$ interior nodes to obtain, by replacing the second derivative with a second order finite difference and neglecting the (truncation) error, the linear system"
   ]
  },
  {
   "cell_type": "markdown",
   "metadata": {},
   "source": [
    "$$ \\frac{ -v_{j-1} + 2v_j - v_{j-1} }{h^2} + \\pi^2 v_j = 2\\pi^2 \\text{sin}(\\pi x_j) \\qquad \\text{for }j=1,2,\\ldots, N-1 $$\n",
    "\n",
    "where $h = 1/N,\\ v_j$ is the approximation to $u(x_j)$ for $j = 1,2,\\ldots N-1$, and $v_0 = v_n = 0$"
   ]
  },
  {
   "cell_type": "markdown",
   "metadata": {},
   "source": [
    "#### a) Use your tridiagonal solver to solve the above equation for N = 50 and plot your corresponding solution."
   ]
  },
  {
   "cell_type": "code",
   "execution_count": 8,
   "metadata": {},
   "outputs": [],
   "source": [
    "# Here we need to find the tridiagonal elements of the matrix first\n",
    "n = 50\n",
    "h = 1/n\n",
    "\n",
    "x = np.zeros(n+1)\n",
    "for i in range(0, n+1):\n",
    "    x[i] = i * h\n",
    "\n",
    "f=[]\n",
    "for i in x:\n",
    "    fi = 2 * (math.pi ** 2) * math.sin(math.pi * i) \n",
    "    f.append(fi)\n",
    "    \n",
    "    \n",
    "a = np.zeros(n+1) \n",
    "b = np.zeros(n) \n",
    "c = np.zeros(n)\n",
    "\n",
    "# We can find the a, b, and c's as follows\n",
    "for i in range(0, n+1):\n",
    "    for j in range(0, n+1):\n",
    "        if i-1 == j:\n",
    "            c[j] = (-1 * (1/(h ** 2)))\n",
    "        if i == j:\n",
    "            a[i] = (2 + (math.pi ** 2) * (h ** 2)) * (1/(h ** 2))\n",
    "        if i == j-1:\n",
    "            b[i] = (-1 * (1/(h ** 2)))"
   ]
  },
  {
   "cell_type": "code",
   "execution_count": 9,
   "metadata": {},
   "outputs": [
    {
     "data": {
      "text/plain": [
       "array([0.05926699, 0.11876795, 0.17824201, 0.23743016, 0.29607614,\n",
       "       0.3539274 , 0.41073602, 0.46625955, 0.52026199, 0.57251457,\n",
       "       0.62279662, 0.67089641, 0.7166119 , 0.75975149, 0.80013475,\n",
       "       0.83759309, 0.87197037, 0.90312351, 0.93092299, 0.95525338,\n",
       "       0.97601375, 0.99311801, 1.00649533, 1.0160903 , 1.02186321,\n",
       "       1.02379017, 1.02186321, 1.0160903 , 1.00649533, 0.99311801,\n",
       "       0.97601375, 0.95525338, 0.93092299, 0.90312351, 0.87197037,\n",
       "       0.83759309, 0.80013475, 0.75975149, 0.7166119 , 0.67089641,\n",
       "       0.62279662, 0.57251457, 0.52026199, 0.46625955, 0.41073602,\n",
       "       0.3539274 , 0.29607614, 0.23743016, 0.17824201, 0.11876795,\n",
       "       0.05926699])"
      ]
     },
     "execution_count": 9,
     "metadata": {},
     "output_type": "execute_result"
    }
   ],
   "source": [
    "MDS(a,b,c,f)"
   ]
  },
  {
   "cell_type": "code",
   "execution_count": 12,
   "metadata": {},
   "outputs": [
    {
     "data": {
      "image/png": "[encoded data removed]",
      "text/plain": [
       "<Figure size 432x288 with 1 Axes>"
      ]
     },
     "metadata": {
      "needs_background": "light"
     },
     "output_type": "display_data"
    },
    {
     "data": {
      "image/png": "[encoded data removed]",
      "text/plain": [
       "<Figure size 432x288 with 1 Axes>"
      ]
     },
     "metadata": {
      "needs_background": "light"
     },
     "output_type": "display_data"
    }
   ],
   "source": [
    "plt.plot(x, MDS(a,b,c,f))\n",
    "plt.xlabel('Nodes')\n",
    "plt.ylabel('Approximations')\n",
    "plt.show()\n",
    "\n",
    "sol=[]\n",
    "\n",
    "for i in range(0, n+1):\n",
    "    soli = math.sin(math.pi * x[i])\n",
    "    sol.append(soli)\n",
    "\n",
    "plt.plot(x, sol)\n",
    "plt.xlabel('Nodes')\n",
    "plt.ylabel('Approximations') \n",
    "plt.show()"
   ]
  },
  {
   "cell_type": "markdown",
   "metadata": {},
   "source": [
    "We can see that both the graphs are almost identical, which confirms their valadity."
   ]
  },
  {
   "cell_type": "markdown",
   "metadata": {},
   "source": [
    "#### The exact solution to the boundary value problem the first equation  is $u(x) = \\text{sin}(\\pi x)$. Check this"
   ]
  },
  {
   "cell_type": "markdown",
   "metadata": {},
   "source": [
    "Subsitute $u(x) = \\text{sin}(\\pi x)$ in the first equation on the LHS. We will get \n",
    "\n",
    "\\begin{equation}\n",
    "\\begin{split}\n",
    "-u'' + \\pi^2 u &= -(\\text{sin}''(\\pi x)) + \\pi^2 (\\text{sin}(\\pi x))\\\\\n",
    "&= -(-\\pi^2 \\text{sin}(\\pi x)) + \\pi^2 \\text{sin}(\\pi x)\\\\\n",
    "&= 2\\pi^2 \\text{sin}(\\pi x)\n",
    "\\end{split}\n",
    "\\end{equation}\n",
    "Hence Proved! "
   ]
  }
 ],
 "metadata": {
  "kernelspec": {
   "display_name": "Python 3",
   "language": "python",
   "name": "python3"
  },
  "language_info": {
   "codemirror_mode": {
    "name": "ipython",
    "version": 3
   },
   "file_extension": ".py",
   "mimetype": "text/x-python",
   "name": "python",
   "nbconvert_exporter": "python",
   "pygments_lexer": "ipython3",
   "version": "3.8.5"
  }
 },
 "nbformat": 4,
 "nbformat_minor": 4
}
