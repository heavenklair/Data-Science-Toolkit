{
 "cells": [
  {
   "cell_type": "markdown",
   "metadata": {},
   "source": [
    "# Numerical Differentiation"
   ]
  },
  {
   "cell_type": "markdown",
   "metadata": {},
   "source": [
    "Let $f(x) = e^x$."
   ]
  },
  {
   "cell_type": "markdown",
   "metadata": {},
   "source": [
    "(a) Compute the centered difference approximation of $f'(1/2)$, i.e. $D_0^h f(1/2)$, for $h = 0.1/2^n$, $n = 0, 1, \\ldots , 10$, and verify its quadratic rate of convergence.\n",
    "\n",
    "(b) Determine approximately the optimal value $h_0$ which gives the minimum total error (the sum of the discretization error plus the round-off error) and verify this numerically.\n",
    "\n",
    "(c) Construct and compute a fourth order approximation to $f'(1/2)$ by applying Richardson extrapolation to $D_h^0 f(1/2)$. Verify the rate of convergence numerically. What is the optimal $h_0$ in this case?"
   ]
  },
  {
   "cell_type": "code",
   "execution_count": 1,
   "metadata": {},
   "outputs": [],
   "source": [
    "# Importing the required libraries\n",
    "import math\n",
    "import numpy as np\n",
    "import matplotlib.pyplot as plt"
   ]
  },
  {
   "cell_type": "code",
   "execution_count": 7,
   "metadata": {},
   "outputs": [
    {
     "data": {
      "image/png": "[encoded data removed]",
      "text/plain": [
       "<Figure size 432x288 with 1 Axes>"
      ]
     },
     "metadata": {
      "needs_background": "light"
     },
     "output_type": "display_data"
    }
   ],
   "source": [
    "x = 0.5\n",
    "\n",
    "def f(x):\n",
    "    return np.exp(x)\n",
    "\n",
    "n = np.array([0,1,2,3,4,5,6,7,8,9,10])\n",
    "h = np.zeros([11])\n",
    "\n",
    "for n in range(0, 10):\n",
    "     h[n] = 0.1/(2**n)\n",
    "\n",
    "# Computing the centered differnce approximations\n",
    "D = np.zeros([11])\n",
    "for i in range(0,10):\n",
    "    D[i] = (f(x+h[i]) - f(x-h[i]))/(2*h[i])\n",
    "    \n",
    "# error array\n",
    "error = np.zeros([11])\n",
    "for i in range(0,10):\n",
    "    error[i] = abs(f(x) - D[i])\n",
    "    #print(error[i])\n",
    "    \n",
    "log_of_error = np.zeros(11)\n",
    "log_of_h = np.zeros(11)\n",
    "\n",
    "for i in range(0,9):\n",
    "    log_of_error[i] = np.log(error[i])\n",
    "    log_of_h[i] = np.log(h[i])\n",
    "\n",
    "plt.plot(log_of_h, log_of_error)\n",
    "plt.xlabel('Log of h')\n",
    "plt.ylabel('Log of Error')\n",
    "plt.grid()"
   ]
  },
  {
   "cell_type": "markdown",
   "metadata": {},
   "source": [
    "We can notice that the slope of the graph above is around 2 which satisfies the condition of quadractic rate of convergence"
   ]
  },
  {
   "cell_type": "markdown",
   "metadata": {},
   "source": [
    "#### (b) Determine approximately the optimal value $h_0$ which gives the minimum total error (the sum of the discretization error plus the round-off error) and verify this numerically."
   ]
  },
  {
   "cell_type": "markdown",
   "metadata": {},
   "source": [
    "Since we know that the approximation error or the truncation error for the centered finite difference approximation is bounded by $-1/6 f'''(\\chi_0 )h^2$\n",
    "\n",
    "Thus, the total error $E(h)$ can be approximately bounded by \n",
    "$$ \\frac{1}{6} h^2 M_3 + |f(x_0)|\\frac{\\text{eps}}{h} $$\n",
    "\n",
    "Differentiating and setting it equal to 0\n",
    "$$ \\frac{1}{3}h M_3 - 2|f(x_0)| \\frac{\\text{eps}}{h^2} = 0 $$\n",
    "Thus\n",
    "$$ h_0 = \\bigg( \\frac{ e \\text{eps} |f(x_0)| }{M_3} \\bigg)^{1/3} \\approx c \\cdot \\text{eps}^{1/3} $$"
   ]
  },
  {
   "cell_type": "markdown",
   "metadata": {},
   "source": [
    "#### (c) Construct and compute a fourth order approximation to $f'(1/2)$ by applying Richardson extrapolation to $D_h^0 f(1/2)$. Verify the rate of convergence numerically. What is the optimal $h_0$ in this case?"
   ]
  },
  {
   "cell_type": "code",
   "execution_count": 9,
   "metadata": {},
   "outputs": [
    {
     "name": "stdout",
     "output_type": "stream",
     "text": [
      "[1.64940867e+00 1.64889304e+00 1.64876421e+00 1.64873200e+00\n",
      " 1.64872395e+00 1.64872194e+00 1.64872144e+00 1.64872131e+00\n",
      " 1.64872128e+00 1.04823465e-08 0.00000000e+00]\n"
     ]
    }
   ],
   "source": [
    "n = np.array([0,1,2,3,4,5,6,7,8,9,10])\n",
    "h = np.zeros([11])\n",
    "h_2 = np.zeros([11])\n",
    "D_h_2 = np.zeros([11])\n",
    "D_4 =  np.zeros([11])\n",
    "\n",
    "for n in range(0,10):\n",
    "    h_2[n] = 0.1/(2**(n+1))\n",
    "    \n",
    "for n in range(0,10):\n",
    "    h[n] = 0.1/(2**n)\n",
    "    \n",
    "for i in range(0,10):\n",
    "    D_h_2[i] = (f(x+h_2[i]) - f(x-h_2[i]))/(2*h_2[i])\n",
    "    \n",
    "for i in range(0,10):\n",
    "    D[i] = (f(x+h[i]) - f(x-h[i]))/(2*h[i])\n",
    "    \n",
    "for i in range(0,10):\n",
    "    D_4[i] = (D_h_2[i] - D[i])/3\n",
    "    \n",
    "for i in range(0,9):\n",
    "    error[i] = abs(f(0.5) - D_4[i])\n",
    "\n",
    "print(error)    "
   ]
  }
 ],
 "metadata": {
  "kernelspec": {
   "display_name": "Python 3",
   "language": "python",
   "name": "python3"
  },
  "language_info": {
   "codemirror_mode": {
    "name": "ipython",
    "version": 3
   },
   "file_extension": ".py",
   "mimetype": "text/x-python",
   "name": "python",
   "nbconvert_exporter": "python",
   "pygments_lexer": "ipython3",
   "version": "3.8.5"
  }
 },
 "nbformat": 4,
 "nbformat_minor": 4
}
