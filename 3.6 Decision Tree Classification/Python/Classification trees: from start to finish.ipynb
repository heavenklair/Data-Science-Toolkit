{
 "cells": [
  {
   "cell_type": "markdown",
   "metadata": {},
   "source": [
    "# Classification Tree: Start to Finish"
   ]
  },
  {
   "cell_type": "markdown",
   "metadata": {},
   "source": [
    "The data set that we are going to use for this notebook is taken from [UCI Machine Learning Repository](https://archive.ics.uci.edu/ml/index.php). Here is a link to the [dataset](https://archive.ics.uci.edu/ml/datasets/heart+disease). We will use this dataset to predict whether or not a person has heart disease."
   ]
  },
  {
   "cell_type": "markdown",
   "metadata": {},
   "source": [
    "The procedure that we are going to follow here: \n",
    "\n",
    "* Importing the Data\n",
    "* Missing Data\n",
    "    * Identifying Missing Data\n",
    "    * Dealing with Missing Data\n",
    "* Formatting the Data for Decision Trees\n",
    "    * Splitting data into Dependent and Independent Variables\n",
    "    * One-Hot-Encoding\n",
    "* Building a Preliminary Classification Tree\n",
    "* Optimizing the tree with Cost Complexity Pruning\n",
    "    * Visualizing Alpha\n",
    "    * Using Cross Validation to find the best values of alpha\n",
    "* Building, Drawing, Interpreting and Evaluating the Final Decision Tree"
   ]
  },
  {
   "cell_type": "markdown",
   "metadata": {},
   "source": [
    "## Importing the Libraries"
   ]
  },
  {
   "cell_type": "code",
   "execution_count": 209,
   "metadata": {},
   "outputs": [],
   "source": [
    "import numpy as np\n",
    "import matplotlib.pyplot as plt\n",
    "import pandas as pd"
   ]
  },
  {
   "cell_type": "markdown",
   "metadata": {},
   "source": [
    "## Importing the Dataset"
   ]
  },
  {
   "cell_type": "markdown",
   "metadata": {},
   "source": [
    "We are going to use the [Heart Disease Dataset](https://archive.ics.uci.edu/ml/datasets/heart+disease). This dataset will allow us to predict if someone has heart disease based on their sex, age, blood pressure and a variety of other metrics."
   ]
  },
  {
   "cell_type": "code",
   "execution_count": 210,
   "metadata": {},
   "outputs": [
    {
     "data": {
      "text/html": [
       "<div>\n",
       "<style scoped>\n",
       "    .dataframe tbody tr th:only-of-type {\n",
       "        vertical-align: middle;\n",
       "    }\n",
       "\n",
       "    .dataframe tbody tr th {\n",
       "        vertical-align: top;\n",
       "    }\n",
       "\n",
       "    .dataframe thead th {\n",
       "        text-align: right;\n",
       "    }\n",
       "</style>\n",
       "<table border=\"1\" class=\"dataframe\">\n",
       "  <thead>\n",
       "    <tr style=\"text-align: right;\">\n",
       "      <th></th>\n",
       "      <th>0</th>\n",
       "      <th>1</th>\n",
       "      <th>2</th>\n",
       "      <th>3</th>\n",
       "      <th>4</th>\n",
       "      <th>5</th>\n",
       "      <th>6</th>\n",
       "      <th>7</th>\n",
       "      <th>8</th>\n",
       "      <th>9</th>\n",
       "      <th>10</th>\n",
       "      <th>11</th>\n",
       "      <th>12</th>\n",
       "      <th>13</th>\n",
       "    </tr>\n",
       "  </thead>\n",
       "  <tbody>\n",
       "    <tr>\n",
       "      <th>0</th>\n",
       "      <td>63.0</td>\n",
       "      <td>1.0</td>\n",
       "      <td>1.0</td>\n",
       "      <td>145.0</td>\n",
       "      <td>233.0</td>\n",
       "      <td>1.0</td>\n",
       "      <td>2.0</td>\n",
       "      <td>150.0</td>\n",
       "      <td>0.0</td>\n",
       "      <td>2.3</td>\n",
       "      <td>3.0</td>\n",
       "      <td>0.0</td>\n",
       "      <td>6.0</td>\n",
       "      <td>0</td>\n",
       "    </tr>\n",
       "    <tr>\n",
       "      <th>1</th>\n",
       "      <td>67.0</td>\n",
       "      <td>1.0</td>\n",
       "      <td>4.0</td>\n",
       "      <td>160.0</td>\n",
       "      <td>286.0</td>\n",
       "      <td>0.0</td>\n",
       "      <td>2.0</td>\n",
       "      <td>108.0</td>\n",
       "      <td>1.0</td>\n",
       "      <td>1.5</td>\n",
       "      <td>2.0</td>\n",
       "      <td>3.0</td>\n",
       "      <td>3.0</td>\n",
       "      <td>2</td>\n",
       "    </tr>\n",
       "    <tr>\n",
       "      <th>2</th>\n",
       "      <td>67.0</td>\n",
       "      <td>1.0</td>\n",
       "      <td>4.0</td>\n",
       "      <td>120.0</td>\n",
       "      <td>229.0</td>\n",
       "      <td>0.0</td>\n",
       "      <td>2.0</td>\n",
       "      <td>129.0</td>\n",
       "      <td>1.0</td>\n",
       "      <td>2.6</td>\n",
       "      <td>2.0</td>\n",
       "      <td>2.0</td>\n",
       "      <td>7.0</td>\n",
       "      <td>1</td>\n",
       "    </tr>\n",
       "    <tr>\n",
       "      <th>3</th>\n",
       "      <td>37.0</td>\n",
       "      <td>1.0</td>\n",
       "      <td>3.0</td>\n",
       "      <td>130.0</td>\n",
       "      <td>250.0</td>\n",
       "      <td>0.0</td>\n",
       "      <td>0.0</td>\n",
       "      <td>187.0</td>\n",
       "      <td>0.0</td>\n",
       "      <td>3.5</td>\n",
       "      <td>3.0</td>\n",
       "      <td>0.0</td>\n",
       "      <td>3.0</td>\n",
       "      <td>0</td>\n",
       "    </tr>\n",
       "    <tr>\n",
       "      <th>4</th>\n",
       "      <td>41.0</td>\n",
       "      <td>0.0</td>\n",
       "      <td>2.0</td>\n",
       "      <td>130.0</td>\n",
       "      <td>204.0</td>\n",
       "      <td>0.0</td>\n",
       "      <td>2.0</td>\n",
       "      <td>172.0</td>\n",
       "      <td>0.0</td>\n",
       "      <td>1.4</td>\n",
       "      <td>1.0</td>\n",
       "      <td>0.0</td>\n",
       "      <td>3.0</td>\n",
       "      <td>0</td>\n",
       "    </tr>\n",
       "  </tbody>\n",
       "</table>\n",
       "</div>"
      ],
      "text/plain": [
       "     0    1    2      3      4    5    6      7    8    9    10   11   12  13\n",
       "0  63.0  1.0  1.0  145.0  233.0  1.0  2.0  150.0  0.0  2.3  3.0  0.0  6.0   0\n",
       "1  67.0  1.0  4.0  160.0  286.0  0.0  2.0  108.0  1.0  1.5  2.0  3.0  3.0   2\n",
       "2  67.0  1.0  4.0  120.0  229.0  0.0  2.0  129.0  1.0  2.6  2.0  2.0  7.0   1\n",
       "3  37.0  1.0  3.0  130.0  250.0  0.0  0.0  187.0  0.0  3.5  3.0  0.0  3.0   0\n",
       "4  41.0  0.0  2.0  130.0  204.0  0.0  2.0  172.0  0.0  1.4  1.0  0.0  3.0   0"
      ]
     },
     "execution_count": 210,
     "metadata": {},
     "output_type": "execute_result"
    }
   ],
   "source": [
    "# we will import the dataset directly from the website of UCI, instead of downloading the pdf onto our device and then reading it.\n",
    "df = pd.read_csv('https://archive.ics.uci.edu/ml/machine-learning-databases/heart-disease/processed.cleveland.data',\n",
    "                header = None)\n",
    "df.head()\n"
   ]
  },
  {
   "cell_type": "markdown",
   "metadata": {},
   "source": [
    "Instead of colunm names, we are getting column numbers. Since column names would make it easier for us to work with, we are going to convert the column numbers into names with the following column names:\n",
    "* age\n",
    "* sex\n",
    "* cp (chest pain)\n",
    "* restbp (resting blood pressure, in mmHg)\n",
    "* chol (serum cholesterol in mg/dl)\n",
    "* fbs (fasting blood pressure)\n",
    "* restecg (resting electrocardiographic results)\n",
    "* thalach (maximum heart rate achieved)\n",
    "* exang (exercise induced angina)\n",
    "* oldpeak (ST depression induced by exercise relative to rest)\n",
    "* slope (the slope of the peak exercise ST segment)\n",
    "* ca (number of major vessels, 0-3, colored by fluroscopy)\n",
    "* thal (this is hort of thalium heart scan)\n",
    "* hd (diagnosis of heart disease, the predicted atrribute)"
   ]
  },
  {
   "cell_type": "code",
   "execution_count": 211,
   "metadata": {},
   "outputs": [
    {
     "data": {
      "text/html": [
       "<div>\n",
       "<style scoped>\n",
       "    .dataframe tbody tr th:only-of-type {\n",
       "        vertical-align: middle;\n",
       "    }\n",
       "\n",
       "    .dataframe tbody tr th {\n",
       "        vertical-align: top;\n",
       "    }\n",
       "\n",
       "    .dataframe thead th {\n",
       "        text-align: right;\n",
       "    }\n",
       "</style>\n",
       "<table border=\"1\" class=\"dataframe\">\n",
       "  <thead>\n",
       "    <tr style=\"text-align: right;\">\n",
       "      <th></th>\n",
       "      <th>age</th>\n",
       "      <th>sex</th>\n",
       "      <th>cp</th>\n",
       "      <th>restbp</th>\n",
       "      <th>chol</th>\n",
       "      <th>fbs</th>\n",
       "      <th>restecg</th>\n",
       "      <th>thalach</th>\n",
       "      <th>exang</th>\n",
       "      <th>oldpeak</th>\n",
       "      <th>slope</th>\n",
       "      <th>ca</th>\n",
       "      <th>thal</th>\n",
       "      <th>hd</th>\n",
       "    </tr>\n",
       "  </thead>\n",
       "  <tbody>\n",
       "    <tr>\n",
       "      <th>0</th>\n",
       "      <td>63.0</td>\n",
       "      <td>1.0</td>\n",
       "      <td>1.0</td>\n",
       "      <td>145.0</td>\n",
       "      <td>233.0</td>\n",
       "      <td>1.0</td>\n",
       "      <td>2.0</td>\n",
       "      <td>150.0</td>\n",
       "      <td>0.0</td>\n",
       "      <td>2.3</td>\n",
       "      <td>3.0</td>\n",
       "      <td>0.0</td>\n",
       "      <td>6.0</td>\n",
       "      <td>0</td>\n",
       "    </tr>\n",
       "    <tr>\n",
       "      <th>1</th>\n",
       "      <td>67.0</td>\n",
       "      <td>1.0</td>\n",
       "      <td>4.0</td>\n",
       "      <td>160.0</td>\n",
       "      <td>286.0</td>\n",
       "      <td>0.0</td>\n",
       "      <td>2.0</td>\n",
       "      <td>108.0</td>\n",
       "      <td>1.0</td>\n",
       "      <td>1.5</td>\n",
       "      <td>2.0</td>\n",
       "      <td>3.0</td>\n",
       "      <td>3.0</td>\n",
       "      <td>2</td>\n",
       "    </tr>\n",
       "    <tr>\n",
       "      <th>2</th>\n",
       "      <td>67.0</td>\n",
       "      <td>1.0</td>\n",
       "      <td>4.0</td>\n",
       "      <td>120.0</td>\n",
       "      <td>229.0</td>\n",
       "      <td>0.0</td>\n",
       "      <td>2.0</td>\n",
       "      <td>129.0</td>\n",
       "      <td>1.0</td>\n",
       "      <td>2.6</td>\n",
       "      <td>2.0</td>\n",
       "      <td>2.0</td>\n",
       "      <td>7.0</td>\n",
       "      <td>1</td>\n",
       "    </tr>\n",
       "    <tr>\n",
       "      <th>3</th>\n",
       "      <td>37.0</td>\n",
       "      <td>1.0</td>\n",
       "      <td>3.0</td>\n",
       "      <td>130.0</td>\n",
       "      <td>250.0</td>\n",
       "      <td>0.0</td>\n",
       "      <td>0.0</td>\n",
       "      <td>187.0</td>\n",
       "      <td>0.0</td>\n",
       "      <td>3.5</td>\n",
       "      <td>3.0</td>\n",
       "      <td>0.0</td>\n",
       "      <td>3.0</td>\n",
       "      <td>0</td>\n",
       "    </tr>\n",
       "    <tr>\n",
       "      <th>4</th>\n",
       "      <td>41.0</td>\n",
       "      <td>0.0</td>\n",
       "      <td>2.0</td>\n",
       "      <td>130.0</td>\n",
       "      <td>204.0</td>\n",
       "      <td>0.0</td>\n",
       "      <td>2.0</td>\n",
       "      <td>172.0</td>\n",
       "      <td>0.0</td>\n",
       "      <td>1.4</td>\n",
       "      <td>1.0</td>\n",
       "      <td>0.0</td>\n",
       "      <td>3.0</td>\n",
       "      <td>0</td>\n",
       "    </tr>\n",
       "  </tbody>\n",
       "</table>\n",
       "</div>"
      ],
      "text/plain": [
       "    age  sex   cp  restbp   chol  fbs  restecg  thalach  exang  oldpeak  \\\n",
       "0  63.0  1.0  1.0   145.0  233.0  1.0      2.0    150.0    0.0      2.3   \n",
       "1  67.0  1.0  4.0   160.0  286.0  0.0      2.0    108.0    1.0      1.5   \n",
       "2  67.0  1.0  4.0   120.0  229.0  0.0      2.0    129.0    1.0      2.6   \n",
       "3  37.0  1.0  3.0   130.0  250.0  0.0      0.0    187.0    0.0      3.5   \n",
       "4  41.0  0.0  2.0   130.0  204.0  0.0      2.0    172.0    0.0      1.4   \n",
       "\n",
       "   slope   ca thal  hd  \n",
       "0    3.0  0.0  6.0   0  \n",
       "1    2.0  3.0  3.0   2  \n",
       "2    2.0  2.0  7.0   1  \n",
       "3    3.0  0.0  3.0   0  \n",
       "4    1.0  0.0  3.0   0  "
      ]
     },
     "execution_count": 211,
     "metadata": {},
     "output_type": "execute_result"
    }
   ],
   "source": [
    "df.columns = ['age', 'sex', 'cp','restbp', 'chol', 'fbs', 'restecg', 'thalach', \n",
    "              'exang', 'oldpeak', 'slope', 'ca', 'thal', 'hd']\n",
    "df.head()"
   ]
  },
  {
   "cell_type": "markdown",
   "metadata": {},
   "source": [
    "### Dealing with Missing Data"
   ]
  },
  {
   "cell_type": "markdown",
   "metadata": {},
   "source": [
    "There are two main ways to deal with missing data:\n",
    "\n",
    "* We can remove the rows that contain missing data from the dataset. This is relatively easy to do, but it wastes all of the other values that we collected. How a big of a waste this is depends on how important this missing value is for classification. For example, if we are missing a value for **age** and **age**is not useful for classifying if people have heart disease or not, then it would be a shame to throw out all of someone's data just because we do not have their **age**.\n",
    "* We can impute the values that are missing. In this conext compute is just a fancy way of saying \"we can make and educated guess about what the values should be\". Continuing our example where are missing a value for **age**, instead of throwing out the entire row of data, we can fill the missing value with the average age or the medain age, or use some other, more sophisticated approch, to guess at an appropriate value."
   ]
  },
  {
   "cell_type": "code",
   "execution_count": 212,
   "metadata": {},
   "outputs": [
    {
     "data": {
      "text/plain": [
       "age        float64\n",
       "sex        float64\n",
       "cp         float64\n",
       "restbp     float64\n",
       "chol       float64\n",
       "fbs        float64\n",
       "restecg    float64\n",
       "thalach    float64\n",
       "exang      float64\n",
       "oldpeak    float64\n",
       "slope      float64\n",
       "ca          object\n",
       "thal        object\n",
       "hd           int64\n",
       "dtype: object"
      ]
     },
     "execution_count": 212,
     "metadata": {},
     "output_type": "execute_result"
    }
   ],
   "source": [
    "# dtypes tells us the \"data type\" for each column\n",
    "df.dtypes"
   ]
  },
  {
   "cell_type": "markdown",
   "metadata": {},
   "source": [
    "We see that **ca** and **thal** have data types as *object*. *object* datatype is usually used when there are mixtures of things, like a mixture of numbers and letters. In theory, both **ca** and **thal** should have just have a few values representing differnt categories, so let's investigate what's going on by printing out their unique values. We will start with **ca**:"
   ]
  },
  {
   "cell_type": "code",
   "execution_count": 213,
   "metadata": {},
   "outputs": [
    {
     "data": {
      "text/plain": [
       "array(['0.0', '3.0', '2.0', '1.0', '?'], dtype=object)"
      ]
     },
     "execution_count": 213,
     "metadata": {},
     "output_type": "execute_result"
    }
   ],
   "source": [
    "# Pring out the unique values in the column called 'ca'\n",
    "df['ca'].unique()"
   ]
  },
  {
   "cell_type": "markdown",
   "metadata": {},
   "source": [
    "We see that **ca** contains numbers (0.0, 3.0, 2.0, 1.0) and question mark (?). The number represents the number of blood vessels that we lut up by fluroscopy and the question marks represents the missing data. \n",
    "\n",
    "Let's do the same wiht **thal**:"
   ]
  },
  {
   "cell_type": "code",
   "execution_count": 214,
   "metadata": {},
   "outputs": [
    {
     "data": {
      "text/plain": [
       "array(['6.0', '3.0', '7.0', '?'], dtype=object)"
      ]
     },
     "execution_count": 214,
     "metadata": {},
     "output_type": "execute_result"
    }
   ],
   "source": [
    "# Pring out the unique values in the column called 'thal'\n",
    "df['thal'].unique()"
   ]
  },
  {
   "cell_type": "markdown",
   "metadata": {},
   "source": [
    "We see that **thal** contains numbers (6.0, 3.0, 7.0) and question mark(?). The numbers represents the different diagnoses from the thalium heart scum, and question mark represents missing data."
   ]
  },
  {
   "cell_type": "markdown",
   "metadata": {},
   "source": [
    "Since scikit-learn's classification trees do not support datasets with missing values, we need to figure out what to do with these question marks. We can either delete these patients from the training dataset, or impute values for the missing data. First let's see how many rows contain missing values."
   ]
  },
  {
   "cell_type": "code",
   "execution_count": 215,
   "metadata": {},
   "outputs": [
    {
     "data": {
      "text/plain": [
       "6"
      ]
     },
     "execution_count": 215,
     "metadata": {},
     "output_type": "execute_result"
    }
   ],
   "source": [
    "# loc[] is short for location.\n",
    "len(df.loc[(df['ca'] == '?')\n",
    "            | \n",
    "            (df['thal'] == '?') ] )"
   ]
  },
  {
   "cell_type": "markdown",
   "metadata": {},
   "source": [
    "Since only 6 rows have missing values, let's look at them."
   ]
  },
  {
   "cell_type": "code",
   "execution_count": 216,
   "metadata": {},
   "outputs": [
    {
     "data": {
      "text/html": [
       "<div>\n",
       "<style scoped>\n",
       "    .dataframe tbody tr th:only-of-type {\n",
       "        vertical-align: middle;\n",
       "    }\n",
       "\n",
       "    .dataframe tbody tr th {\n",
       "        vertical-align: top;\n",
       "    }\n",
       "\n",
       "    .dataframe thead th {\n",
       "        text-align: right;\n",
       "    }\n",
       "</style>\n",
       "<table border=\"1\" class=\"dataframe\">\n",
       "  <thead>\n",
       "    <tr style=\"text-align: right;\">\n",
       "      <th></th>\n",
       "      <th>age</th>\n",
       "      <th>sex</th>\n",
       "      <th>cp</th>\n",
       "      <th>restbp</th>\n",
       "      <th>chol</th>\n",
       "      <th>fbs</th>\n",
       "      <th>restecg</th>\n",
       "      <th>thalach</th>\n",
       "      <th>exang</th>\n",
       "      <th>oldpeak</th>\n",
       "      <th>slope</th>\n",
       "      <th>ca</th>\n",
       "      <th>thal</th>\n",
       "      <th>hd</th>\n",
       "    </tr>\n",
       "  </thead>\n",
       "  <tbody>\n",
       "    <tr>\n",
       "      <th>87</th>\n",
       "      <td>53.0</td>\n",
       "      <td>0.0</td>\n",
       "      <td>3.0</td>\n",
       "      <td>128.0</td>\n",
       "      <td>216.0</td>\n",
       "      <td>0.0</td>\n",
       "      <td>2.0</td>\n",
       "      <td>115.0</td>\n",
       "      <td>0.0</td>\n",
       "      <td>0.0</td>\n",
       "      <td>1.0</td>\n",
       "      <td>0.0</td>\n",
       "      <td>?</td>\n",
       "      <td>0</td>\n",
       "    </tr>\n",
       "    <tr>\n",
       "      <th>166</th>\n",
       "      <td>52.0</td>\n",
       "      <td>1.0</td>\n",
       "      <td>3.0</td>\n",
       "      <td>138.0</td>\n",
       "      <td>223.0</td>\n",
       "      <td>0.0</td>\n",
       "      <td>0.0</td>\n",
       "      <td>169.0</td>\n",
       "      <td>0.0</td>\n",
       "      <td>0.0</td>\n",
       "      <td>1.0</td>\n",
       "      <td>?</td>\n",
       "      <td>3.0</td>\n",
       "      <td>0</td>\n",
       "    </tr>\n",
       "    <tr>\n",
       "      <th>192</th>\n",
       "      <td>43.0</td>\n",
       "      <td>1.0</td>\n",
       "      <td>4.0</td>\n",
       "      <td>132.0</td>\n",
       "      <td>247.0</td>\n",
       "      <td>1.0</td>\n",
       "      <td>2.0</td>\n",
       "      <td>143.0</td>\n",
       "      <td>1.0</td>\n",
       "      <td>0.1</td>\n",
       "      <td>2.0</td>\n",
       "      <td>?</td>\n",
       "      <td>7.0</td>\n",
       "      <td>1</td>\n",
       "    </tr>\n",
       "    <tr>\n",
       "      <th>266</th>\n",
       "      <td>52.0</td>\n",
       "      <td>1.0</td>\n",
       "      <td>4.0</td>\n",
       "      <td>128.0</td>\n",
       "      <td>204.0</td>\n",
       "      <td>1.0</td>\n",
       "      <td>0.0</td>\n",
       "      <td>156.0</td>\n",
       "      <td>1.0</td>\n",
       "      <td>1.0</td>\n",
       "      <td>2.0</td>\n",
       "      <td>0.0</td>\n",
       "      <td>?</td>\n",
       "      <td>2</td>\n",
       "    </tr>\n",
       "    <tr>\n",
       "      <th>287</th>\n",
       "      <td>58.0</td>\n",
       "      <td>1.0</td>\n",
       "      <td>2.0</td>\n",
       "      <td>125.0</td>\n",
       "      <td>220.0</td>\n",
       "      <td>0.0</td>\n",
       "      <td>0.0</td>\n",
       "      <td>144.0</td>\n",
       "      <td>0.0</td>\n",
       "      <td>0.4</td>\n",
       "      <td>2.0</td>\n",
       "      <td>?</td>\n",
       "      <td>7.0</td>\n",
       "      <td>0</td>\n",
       "    </tr>\n",
       "    <tr>\n",
       "      <th>302</th>\n",
       "      <td>38.0</td>\n",
       "      <td>1.0</td>\n",
       "      <td>3.0</td>\n",
       "      <td>138.0</td>\n",
       "      <td>175.0</td>\n",
       "      <td>0.0</td>\n",
       "      <td>0.0</td>\n",
       "      <td>173.0</td>\n",
       "      <td>0.0</td>\n",
       "      <td>0.0</td>\n",
       "      <td>1.0</td>\n",
       "      <td>?</td>\n",
       "      <td>3.0</td>\n",
       "      <td>0</td>\n",
       "    </tr>\n",
       "  </tbody>\n",
       "</table>\n",
       "</div>"
      ],
      "text/plain": [
       "      age  sex   cp  restbp   chol  fbs  restecg  thalach  exang  oldpeak  \\\n",
       "87   53.0  0.0  3.0   128.0  216.0  0.0      2.0    115.0    0.0      0.0   \n",
       "166  52.0  1.0  3.0   138.0  223.0  0.0      0.0    169.0    0.0      0.0   \n",
       "192  43.0  1.0  4.0   132.0  247.0  1.0      2.0    143.0    1.0      0.1   \n",
       "266  52.0  1.0  4.0   128.0  204.0  1.0      0.0    156.0    1.0      1.0   \n",
       "287  58.0  1.0  2.0   125.0  220.0  0.0      0.0    144.0    0.0      0.4   \n",
       "302  38.0  1.0  3.0   138.0  175.0  0.0      0.0    173.0    0.0      0.0   \n",
       "\n",
       "     slope   ca thal  hd  \n",
       "87     1.0  0.0    ?   0  \n",
       "166    1.0    ?  3.0   0  \n",
       "192    2.0    ?  7.0   1  \n",
       "266    2.0  0.0    ?   2  \n",
       "287    2.0    ?  7.0   0  \n",
       "302    1.0    ?  3.0   0  "
      ]
     },
     "execution_count": 216,
     "metadata": {},
     "output_type": "execute_result"
    }
   ],
   "source": [
    "df.loc[\n",
    "    (df['ca'] == '?') | (df['thal'] == '?')\n",
    "]"
   ]
  },
  {
   "cell_type": "code",
   "execution_count": 217,
   "metadata": {},
   "outputs": [
    {
     "data": {
      "text/plain": [
       "303"
      ]
     },
     "execution_count": 217,
     "metadata": {},
     "output_type": "execute_result"
    }
   ],
   "source": [
    "# Counts the number of rows in the full dataset\n",
    "len(df)"
   ]
  },
  {
   "cell_type": "code",
   "execution_count": 218,
   "metadata": {},
   "outputs": [
    {
     "name": "stdout",
     "output_type": "stream",
     "text": [
      "2 %\n"
     ]
    }
   ],
   "source": [
    "print(( round(6/303 * (100))), \"%\")"
   ]
  },
  {
   "cell_type": "markdown",
   "metadata": {},
   "source": [
    "So $2%$ contain missing values. Since $303-6=297$ is plenty of data to build a classificaiton tree, we will remove the rows with missing data values, rather than try to impute their values."
   ]
  },
  {
   "cell_type": "code",
   "execution_count": 219,
   "metadata": {},
   "outputs": [
    {
     "data": {
      "text/plain": [
       "297"
      ]
     },
     "execution_count": 219,
     "metadata": {},
     "output_type": "execute_result"
    }
   ],
   "source": [
    "df_no_missing = df.loc[ \n",
    "    (df['ca'] != '?') & (df['thal'] != '?')\n",
    "]\n",
    "\n",
    "len(df_no_missing)"
   ]
  },
  {
   "cell_type": "markdown",
   "metadata": {},
   "source": [
    "*df_no_missing* has 6 fewer rows than the original dataset as we thought. Let's check the unique values of **ca** and **thal** in the new dataset."
   ]
  },
  {
   "cell_type": "code",
   "execution_count": 220,
   "metadata": {},
   "outputs": [
    {
     "name": "stdout",
     "output_type": "stream",
     "text": [
      "['0.0' '3.0' '2.0' '1.0']\n",
      "['6.0' '3.0' '7.0']\n"
     ]
    }
   ],
   "source": [
    "print(df_no_missing['ca'].unique())\n",
    "print(df_no_missing['thal'].unique())"
   ]
  },
  {
   "cell_type": "markdown",
   "metadata": {},
   "source": [
    "Now, there is no more missing data in the dataset and we are ready to format the data for making a classification tree."
   ]
  },
  {
   "cell_type": "markdown",
   "metadata": {},
   "source": [
    "## Spliting the Data into Dependent and Independent Variables"
   ]
  },
  {
   "cell_type": "markdown",
   "metadata": {},
   "source": [
    "We know that **hd** represents heart disease, so we will name it \"y\" and all others columns as \"X\"."
   ]
  },
  {
   "cell_type": "code",
   "execution_count": 221,
   "metadata": {},
   "outputs": [
    {
     "data": {
      "text/html": [
       "<div>\n",
       "<style scoped>\n",
       "    .dataframe tbody tr th:only-of-type {\n",
       "        vertical-align: middle;\n",
       "    }\n",
       "\n",
       "    .dataframe tbody tr th {\n",
       "        vertical-align: top;\n",
       "    }\n",
       "\n",
       "    .dataframe thead th {\n",
       "        text-align: right;\n",
       "    }\n",
       "</style>\n",
       "<table border=\"1\" class=\"dataframe\">\n",
       "  <thead>\n",
       "    <tr style=\"text-align: right;\">\n",
       "      <th></th>\n",
       "      <th>age</th>\n",
       "      <th>sex</th>\n",
       "      <th>cp</th>\n",
       "      <th>restbp</th>\n",
       "      <th>chol</th>\n",
       "      <th>fbs</th>\n",
       "      <th>restecg</th>\n",
       "      <th>thalach</th>\n",
       "      <th>exang</th>\n",
       "      <th>oldpeak</th>\n",
       "      <th>slope</th>\n",
       "      <th>ca</th>\n",
       "      <th>thal</th>\n",
       "    </tr>\n",
       "  </thead>\n",
       "  <tbody>\n",
       "    <tr>\n",
       "      <th>0</th>\n",
       "      <td>63.0</td>\n",
       "      <td>1.0</td>\n",
       "      <td>1.0</td>\n",
       "      <td>145.0</td>\n",
       "      <td>233.0</td>\n",
       "      <td>1.0</td>\n",
       "      <td>2.0</td>\n",
       "      <td>150.0</td>\n",
       "      <td>0.0</td>\n",
       "      <td>2.3</td>\n",
       "      <td>3.0</td>\n",
       "      <td>0.0</td>\n",
       "      <td>6.0</td>\n",
       "    </tr>\n",
       "    <tr>\n",
       "      <th>1</th>\n",
       "      <td>67.0</td>\n",
       "      <td>1.0</td>\n",
       "      <td>4.0</td>\n",
       "      <td>160.0</td>\n",
       "      <td>286.0</td>\n",
       "      <td>0.0</td>\n",
       "      <td>2.0</td>\n",
       "      <td>108.0</td>\n",
       "      <td>1.0</td>\n",
       "      <td>1.5</td>\n",
       "      <td>2.0</td>\n",
       "      <td>3.0</td>\n",
       "      <td>3.0</td>\n",
       "    </tr>\n",
       "    <tr>\n",
       "      <th>2</th>\n",
       "      <td>67.0</td>\n",
       "      <td>1.0</td>\n",
       "      <td>4.0</td>\n",
       "      <td>120.0</td>\n",
       "      <td>229.0</td>\n",
       "      <td>0.0</td>\n",
       "      <td>2.0</td>\n",
       "      <td>129.0</td>\n",
       "      <td>1.0</td>\n",
       "      <td>2.6</td>\n",
       "      <td>2.0</td>\n",
       "      <td>2.0</td>\n",
       "      <td>7.0</td>\n",
       "    </tr>\n",
       "    <tr>\n",
       "      <th>3</th>\n",
       "      <td>37.0</td>\n",
       "      <td>1.0</td>\n",
       "      <td>3.0</td>\n",
       "      <td>130.0</td>\n",
       "      <td>250.0</td>\n",
       "      <td>0.0</td>\n",
       "      <td>0.0</td>\n",
       "      <td>187.0</td>\n",
       "      <td>0.0</td>\n",
       "      <td>3.5</td>\n",
       "      <td>3.0</td>\n",
       "      <td>0.0</td>\n",
       "      <td>3.0</td>\n",
       "    </tr>\n",
       "    <tr>\n",
       "      <th>4</th>\n",
       "      <td>41.0</td>\n",
       "      <td>0.0</td>\n",
       "      <td>2.0</td>\n",
       "      <td>130.0</td>\n",
       "      <td>204.0</td>\n",
       "      <td>0.0</td>\n",
       "      <td>2.0</td>\n",
       "      <td>172.0</td>\n",
       "      <td>0.0</td>\n",
       "      <td>1.4</td>\n",
       "      <td>1.0</td>\n",
       "      <td>0.0</td>\n",
       "      <td>3.0</td>\n",
       "    </tr>\n",
       "  </tbody>\n",
       "</table>\n",
       "</div>"
      ],
      "text/plain": [
       "    age  sex   cp  restbp   chol  fbs  restecg  thalach  exang  oldpeak  \\\n",
       "0  63.0  1.0  1.0   145.0  233.0  1.0      2.0    150.0    0.0      2.3   \n",
       "1  67.0  1.0  4.0   160.0  286.0  0.0      2.0    108.0    1.0      1.5   \n",
       "2  67.0  1.0  4.0   120.0  229.0  0.0      2.0    129.0    1.0      2.6   \n",
       "3  37.0  1.0  3.0   130.0  250.0  0.0      0.0    187.0    0.0      3.5   \n",
       "4  41.0  0.0  2.0   130.0  204.0  0.0      2.0    172.0    0.0      1.4   \n",
       "\n",
       "   slope   ca thal  \n",
       "0    3.0  0.0  6.0  \n",
       "1    2.0  3.0  3.0  \n",
       "2    2.0  2.0  7.0  \n",
       "3    3.0  0.0  3.0  \n",
       "4    1.0  0.0  3.0  "
      ]
     },
     "execution_count": 221,
     "metadata": {},
     "output_type": "execute_result"
    }
   ],
   "source": [
    "X = df_no_missing.drop('hd', axis=1)\n",
    "X.head()"
   ]
  },
  {
   "cell_type": "code",
   "execution_count": 222,
   "metadata": {},
   "outputs": [
    {
     "data": {
      "text/plain": [
       "0    0\n",
       "1    2\n",
       "2    1\n",
       "3    0\n",
       "4    0\n",
       "Name: hd, dtype: int64"
      ]
     },
     "execution_count": 222,
     "metadata": {},
     "output_type": "execute_result"
    }
   ],
   "source": [
    "y = df_no_missing['hd']\n",
    "y.head()"
   ]
  },
  {
   "cell_type": "markdown",
   "metadata": {},
   "source": [
    "Now we will further inspect \"X\"."
   ]
  },
  {
   "cell_type": "code",
   "execution_count": 223,
   "metadata": {},
   "outputs": [
    {
     "data": {
      "text/plain": [
       "age        float64\n",
       "sex        float64\n",
       "cp         float64\n",
       "restbp     float64\n",
       "chol       float64\n",
       "fbs        float64\n",
       "restecg    float64\n",
       "thalach    float64\n",
       "exang      float64\n",
       "oldpeak    float64\n",
       "slope      float64\n",
       "ca          object\n",
       "thal        object\n",
       "dtype: object"
      ]
     },
     "execution_count": 223,
     "metadata": {},
     "output_type": "execute_result"
    }
   ],
   "source": [
    "X.dtypes"
   ]
  },
  {
   "cell_type": "markdown",
   "metadata": {},
   "source": [
    "We see that **age**, **restbp**, **chol**, and **thalach** are all *float64*, which is good because we want them to be floating point numbers. All of the other columns, however, need to be inspected to make sure they only contain reasoable values, and some of them need to change. This is because, while **scikit learn Decision Tree** natively support continuous data, like **restbp**  and **thalach**. They do not support categorical data, like **cp** which contain 4 differnt categories. Thus, in order to use categorical data with **scikit learn decision tree**, we have to use a trick that converts a column of categorical data into multiple columns of binary values. This trick is called **One-Hot Encoding**."
   ]
  },
  {
   "cell_type": "markdown",
   "metadata": {},
   "source": [
    "At this point, you may be wondering, \"What's wrong with treating categorical data like continuous data?\" To answer that question, let's look at an example:\n",
    "\n",
    "For the **cp** column, we have 4 options\n",
    "* typical angina\n",
    "* atypical angina\n",
    "* non-anginal pain\n",
    "* asymptomatic"
   ]
  },
  {
   "cell_type": "markdown",
   "metadata": {},
   "source": [
    "If we treated these values 1, 2, 3, and 4 like continuous data then we would assume that 4, which means (asymptomatic) is more similar to 3 which means \"non-anginal pain\" than it is to 1 and 2 (other types of chest pain). That means the decision tree would be more likely to cluster the patients with 4s and 3s together than the patients with 4s and 1s. \n",
    "\n",
    "In contrast, if we treat these like categorical data, then we treat each one as a separate category that is no more or less imilar to any of the other categories. Thus, the likelihood of clustering patients with 4s and 3s is the same clustering 4s and 1s, and this approach does not sound reasonable.\n",
    "\n",
    "Now, let's inspect and, if needed, convert the columns that contain categorical and integer data into correct datatypes. We will start with **cp** by inspecting all of its unique values:"
   ]
  },
  {
   "cell_type": "code",
   "execution_count": 224,
   "metadata": {},
   "outputs": [
    {
     "data": {
      "text/plain": [
       "array([1., 4., 3., 2.])"
      ]
     },
     "execution_count": 224,
     "metadata": {},
     "output_type": "execute_result"
    }
   ],
   "source": [
    "X['cp'].unique()"
   ]
  },
  {
   "cell_type": "markdown",
   "metadata": {},
   "source": [
    "Since we already dealt with missing data, we will use **One-Hot Encoding**, and convert the **cp** into a series of columns that only contain 0's and 1's."
   ]
  },
  {
   "cell_type": "code",
   "execution_count": 225,
   "metadata": {},
   "outputs": [
    {
     "data": {
      "text/plain": [
       "array([1., 4., 3., 2.])"
      ]
     },
     "execution_count": 225,
     "metadata": {},
     "output_type": "execute_result"
    }
   ],
   "source": [
    "X['cp'].unique()"
   ]
  },
  {
   "cell_type": "markdown",
   "metadata": {},
   "source": [
    "Since there is not missing data in \"X\" now, we can perform One-hot Encoding.\n",
    "\n",
    "There are many ways to do it in Python. Two of the most popular methods are *ColumnTransformer()* (from *scikit learn*) and *get_dummies()* (from pandas). \n",
    "\n",
    "A con of using *ColumnTransformer()* is that it will convert the dataset into an array and will lose all the columns that we assigned earlier. In contrast, *get_dummies()* leaves your data in a dataframe and retains the column names, making it much easier to verify that it worked as intended. "
   ]
  },
  {
   "cell_type": "code",
   "execution_count": 226,
   "metadata": {},
   "outputs": [
    {
     "data": {
      "text/html": [
       "<div>\n",
       "<style scoped>\n",
       "    .dataframe tbody tr th:only-of-type {\n",
       "        vertical-align: middle;\n",
       "    }\n",
       "\n",
       "    .dataframe tbody tr th {\n",
       "        vertical-align: top;\n",
       "    }\n",
       "\n",
       "    .dataframe thead th {\n",
       "        text-align: right;\n",
       "    }\n",
       "</style>\n",
       "<table border=\"1\" class=\"dataframe\">\n",
       "  <thead>\n",
       "    <tr style=\"text-align: right;\">\n",
       "      <th></th>\n",
       "      <th>age</th>\n",
       "      <th>sex</th>\n",
       "      <th>restbp</th>\n",
       "      <th>chol</th>\n",
       "      <th>fbs</th>\n",
       "      <th>restecg</th>\n",
       "      <th>thalach</th>\n",
       "      <th>exang</th>\n",
       "      <th>oldpeak</th>\n",
       "      <th>slope</th>\n",
       "      <th>ca</th>\n",
       "      <th>thal</th>\n",
       "      <th>cp_1.0</th>\n",
       "      <th>cp_2.0</th>\n",
       "      <th>cp_3.0</th>\n",
       "      <th>cp_4.0</th>\n",
       "    </tr>\n",
       "  </thead>\n",
       "  <tbody>\n",
       "    <tr>\n",
       "      <th>0</th>\n",
       "      <td>63.0</td>\n",
       "      <td>1.0</td>\n",
       "      <td>145.0</td>\n",
       "      <td>233.0</td>\n",
       "      <td>1.0</td>\n",
       "      <td>2.0</td>\n",
       "      <td>150.0</td>\n",
       "      <td>0.0</td>\n",
       "      <td>2.3</td>\n",
       "      <td>3.0</td>\n",
       "      <td>0.0</td>\n",
       "      <td>6.0</td>\n",
       "      <td>1</td>\n",
       "      <td>0</td>\n",
       "      <td>0</td>\n",
       "      <td>0</td>\n",
       "    </tr>\n",
       "    <tr>\n",
       "      <th>1</th>\n",
       "      <td>67.0</td>\n",
       "      <td>1.0</td>\n",
       "      <td>160.0</td>\n",
       "      <td>286.0</td>\n",
       "      <td>0.0</td>\n",
       "      <td>2.0</td>\n",
       "      <td>108.0</td>\n",
       "      <td>1.0</td>\n",
       "      <td>1.5</td>\n",
       "      <td>2.0</td>\n",
       "      <td>3.0</td>\n",
       "      <td>3.0</td>\n",
       "      <td>0</td>\n",
       "      <td>0</td>\n",
       "      <td>0</td>\n",
       "      <td>1</td>\n",
       "    </tr>\n",
       "    <tr>\n",
       "      <th>2</th>\n",
       "      <td>67.0</td>\n",
       "      <td>1.0</td>\n",
       "      <td>120.0</td>\n",
       "      <td>229.0</td>\n",
       "      <td>0.0</td>\n",
       "      <td>2.0</td>\n",
       "      <td>129.0</td>\n",
       "      <td>1.0</td>\n",
       "      <td>2.6</td>\n",
       "      <td>2.0</td>\n",
       "      <td>2.0</td>\n",
       "      <td>7.0</td>\n",
       "      <td>0</td>\n",
       "      <td>0</td>\n",
       "      <td>0</td>\n",
       "      <td>1</td>\n",
       "    </tr>\n",
       "    <tr>\n",
       "      <th>3</th>\n",
       "      <td>37.0</td>\n",
       "      <td>1.0</td>\n",
       "      <td>130.0</td>\n",
       "      <td>250.0</td>\n",
       "      <td>0.0</td>\n",
       "      <td>0.0</td>\n",
       "      <td>187.0</td>\n",
       "      <td>0.0</td>\n",
       "      <td>3.5</td>\n",
       "      <td>3.0</td>\n",
       "      <td>0.0</td>\n",
       "      <td>3.0</td>\n",
       "      <td>0</td>\n",
       "      <td>0</td>\n",
       "      <td>1</td>\n",
       "      <td>0</td>\n",
       "    </tr>\n",
       "    <tr>\n",
       "      <th>4</th>\n",
       "      <td>41.0</td>\n",
       "      <td>0.0</td>\n",
       "      <td>130.0</td>\n",
       "      <td>204.0</td>\n",
       "      <td>0.0</td>\n",
       "      <td>2.0</td>\n",
       "      <td>172.0</td>\n",
       "      <td>0.0</td>\n",
       "      <td>1.4</td>\n",
       "      <td>1.0</td>\n",
       "      <td>0.0</td>\n",
       "      <td>3.0</td>\n",
       "      <td>0</td>\n",
       "      <td>1</td>\n",
       "      <td>0</td>\n",
       "      <td>0</td>\n",
       "    </tr>\n",
       "  </tbody>\n",
       "</table>\n",
       "</div>"
      ],
      "text/plain": [
       "    age  sex  restbp   chol  fbs  restecg  thalach  exang  oldpeak  slope  \\\n",
       "0  63.0  1.0   145.0  233.0  1.0      2.0    150.0    0.0      2.3    3.0   \n",
       "1  67.0  1.0   160.0  286.0  0.0      2.0    108.0    1.0      1.5    2.0   \n",
       "2  67.0  1.0   120.0  229.0  0.0      2.0    129.0    1.0      2.6    2.0   \n",
       "3  37.0  1.0   130.0  250.0  0.0      0.0    187.0    0.0      3.5    3.0   \n",
       "4  41.0  0.0   130.0  204.0  0.0      2.0    172.0    0.0      1.4    1.0   \n",
       "\n",
       "    ca thal  cp_1.0  cp_2.0  cp_3.0  cp_4.0  \n",
       "0  0.0  6.0       1       0       0       0  \n",
       "1  3.0  3.0       0       0       0       1  \n",
       "2  2.0  7.0       0       0       0       1  \n",
       "3  0.0  3.0       0       0       1       0  \n",
       "4  0.0  3.0       0       1       0       0  "
      ]
     },
     "execution_count": 226,
     "metadata": {},
     "output_type": "execute_result"
    }
   ],
   "source": [
    "pd.get_dummies(X, columns=['cp']).head()"
   ]
  },
  {
   "cell_type": "markdown",
   "metadata": {},
   "source": [
    "As we can see, the dataframe has new columns separated for **cp**. Now we know how *get_dummies()* work, we will use it on the four categorical caolumns that have more than 2 categories.\n",
    "\n",
    "**NOTE**: In a real life situation, you should verify all 5 of these new columns only contain the accepted categories!! "
   ]
  },
  {
   "cell_type": "code",
   "execution_count": 227,
   "metadata": {},
   "outputs": [
    {
     "data": {
      "text/html": [
       "<div>\n",
       "<style scoped>\n",
       "    .dataframe tbody tr th:only-of-type {\n",
       "        vertical-align: middle;\n",
       "    }\n",
       "\n",
       "    .dataframe tbody tr th {\n",
       "        vertical-align: top;\n",
       "    }\n",
       "\n",
       "    .dataframe thead th {\n",
       "        text-align: right;\n",
       "    }\n",
       "</style>\n",
       "<table border=\"1\" class=\"dataframe\">\n",
       "  <thead>\n",
       "    <tr style=\"text-align: right;\">\n",
       "      <th></th>\n",
       "      <th>age</th>\n",
       "      <th>sex</th>\n",
       "      <th>chol</th>\n",
       "      <th>fbs</th>\n",
       "      <th>restecg</th>\n",
       "      <th>thalach</th>\n",
       "      <th>exang</th>\n",
       "      <th>oldpeak</th>\n",
       "      <th>ca</th>\n",
       "      <th>cp_1.0</th>\n",
       "      <th>...</th>\n",
       "      <th>restbp_178.0</th>\n",
       "      <th>restbp_180.0</th>\n",
       "      <th>restbp_192.0</th>\n",
       "      <th>restbp_200.0</th>\n",
       "      <th>slope_1.0</th>\n",
       "      <th>slope_2.0</th>\n",
       "      <th>slope_3.0</th>\n",
       "      <th>thal_3.0</th>\n",
       "      <th>thal_6.0</th>\n",
       "      <th>thal_7.0</th>\n",
       "    </tr>\n",
       "  </thead>\n",
       "  <tbody>\n",
       "    <tr>\n",
       "      <th>0</th>\n",
       "      <td>63.0</td>\n",
       "      <td>1.0</td>\n",
       "      <td>233.0</td>\n",
       "      <td>1.0</td>\n",
       "      <td>2.0</td>\n",
       "      <td>150.0</td>\n",
       "      <td>0.0</td>\n",
       "      <td>2.3</td>\n",
       "      <td>0.0</td>\n",
       "      <td>1</td>\n",
       "      <td>...</td>\n",
       "      <td>0</td>\n",
       "      <td>0</td>\n",
       "      <td>0</td>\n",
       "      <td>0</td>\n",
       "      <td>0</td>\n",
       "      <td>0</td>\n",
       "      <td>1</td>\n",
       "      <td>0</td>\n",
       "      <td>1</td>\n",
       "      <td>0</td>\n",
       "    </tr>\n",
       "    <tr>\n",
       "      <th>1</th>\n",
       "      <td>67.0</td>\n",
       "      <td>1.0</td>\n",
       "      <td>286.0</td>\n",
       "      <td>0.0</td>\n",
       "      <td>2.0</td>\n",
       "      <td>108.0</td>\n",
       "      <td>1.0</td>\n",
       "      <td>1.5</td>\n",
       "      <td>3.0</td>\n",
       "      <td>0</td>\n",
       "      <td>...</td>\n",
       "      <td>0</td>\n",
       "      <td>0</td>\n",
       "      <td>0</td>\n",
       "      <td>0</td>\n",
       "      <td>0</td>\n",
       "      <td>1</td>\n",
       "      <td>0</td>\n",
       "      <td>1</td>\n",
       "      <td>0</td>\n",
       "      <td>0</td>\n",
       "    </tr>\n",
       "    <tr>\n",
       "      <th>2</th>\n",
       "      <td>67.0</td>\n",
       "      <td>1.0</td>\n",
       "      <td>229.0</td>\n",
       "      <td>0.0</td>\n",
       "      <td>2.0</td>\n",
       "      <td>129.0</td>\n",
       "      <td>1.0</td>\n",
       "      <td>2.6</td>\n",
       "      <td>2.0</td>\n",
       "      <td>0</td>\n",
       "      <td>...</td>\n",
       "      <td>0</td>\n",
       "      <td>0</td>\n",
       "      <td>0</td>\n",
       "      <td>0</td>\n",
       "      <td>0</td>\n",
       "      <td>1</td>\n",
       "      <td>0</td>\n",
       "      <td>0</td>\n",
       "      <td>0</td>\n",
       "      <td>1</td>\n",
       "    </tr>\n",
       "    <tr>\n",
       "      <th>3</th>\n",
       "      <td>37.0</td>\n",
       "      <td>1.0</td>\n",
       "      <td>250.0</td>\n",
       "      <td>0.0</td>\n",
       "      <td>0.0</td>\n",
       "      <td>187.0</td>\n",
       "      <td>0.0</td>\n",
       "      <td>3.5</td>\n",
       "      <td>0.0</td>\n",
       "      <td>0</td>\n",
       "      <td>...</td>\n",
       "      <td>0</td>\n",
       "      <td>0</td>\n",
       "      <td>0</td>\n",
       "      <td>0</td>\n",
       "      <td>0</td>\n",
       "      <td>0</td>\n",
       "      <td>1</td>\n",
       "      <td>1</td>\n",
       "      <td>0</td>\n",
       "      <td>0</td>\n",
       "    </tr>\n",
       "    <tr>\n",
       "      <th>4</th>\n",
       "      <td>41.0</td>\n",
       "      <td>0.0</td>\n",
       "      <td>204.0</td>\n",
       "      <td>0.0</td>\n",
       "      <td>2.0</td>\n",
       "      <td>172.0</td>\n",
       "      <td>0.0</td>\n",
       "      <td>1.4</td>\n",
       "      <td>0.0</td>\n",
       "      <td>0</td>\n",
       "      <td>...</td>\n",
       "      <td>0</td>\n",
       "      <td>0</td>\n",
       "      <td>0</td>\n",
       "      <td>0</td>\n",
       "      <td>1</td>\n",
       "      <td>0</td>\n",
       "      <td>0</td>\n",
       "      <td>1</td>\n",
       "      <td>0</td>\n",
       "      <td>0</td>\n",
       "    </tr>\n",
       "  </tbody>\n",
       "</table>\n",
       "<p>5 rows × 69 columns</p>\n",
       "</div>"
      ],
      "text/plain": [
       "    age  sex   chol  fbs  restecg  thalach  exang  oldpeak   ca  cp_1.0  ...  \\\n",
       "0  63.0  1.0  233.0  1.0      2.0    150.0    0.0      2.3  0.0       1  ...   \n",
       "1  67.0  1.0  286.0  0.0      2.0    108.0    1.0      1.5  3.0       0  ...   \n",
       "2  67.0  1.0  229.0  0.0      2.0    129.0    1.0      2.6  2.0       0  ...   \n",
       "3  37.0  1.0  250.0  0.0      0.0    187.0    0.0      3.5  0.0       0  ...   \n",
       "4  41.0  0.0  204.0  0.0      2.0    172.0    0.0      1.4  0.0       0  ...   \n",
       "\n",
       "   restbp_178.0  restbp_180.0  restbp_192.0  restbp_200.0  slope_1.0  \\\n",
       "0             0             0             0             0          0   \n",
       "1             0             0             0             0          0   \n",
       "2             0             0             0             0          0   \n",
       "3             0             0             0             0          0   \n",
       "4             0             0             0             0          1   \n",
       "\n",
       "   slope_2.0  slope_3.0  thal_3.0  thal_6.0  thal_7.0  \n",
       "0          0          1         0         1         0  \n",
       "1          1          0         1         0         0  \n",
       "2          1          0         0         0         1  \n",
       "3          0          1         1         0         0  \n",
       "4          0          0         1         0         0  \n",
       "\n",
       "[5 rows x 69 columns]"
      ]
     },
     "execution_count": 227,
     "metadata": {},
     "output_type": "execute_result"
    }
   ],
   "source": [
    "X_encoded = pd.get_dummies(X, columns=['cp', 'restbp', 'slope', 'thal'])\n",
    "\n",
    "X_encoded.head()"
   ]
  },
  {
   "cell_type": "markdown",
   "metadata": {},
   "source": [
    "There are 3 more columns that contain cateogorical data and those are **sex**, **fbs**, and **exang**.\n",
    "\n",
    "As we can see that **One-Hot Encoding** converts a column with more than 2 categories into multiple columns of 0's and 1's. Since **sex**, **fbs**, and **exang** only have 2 categories and only contain 0 and 1's to begin with, we do not need to have to do anything special to them, so we are done with formatting the data for the Classification Tree.\n",
    "\n",
    "Last thing before we build the tree. *y* does not have just contain 0s and 1s. Instead, it has 5 different levels of heart disease.\n",
    "\n",
    "0 = no heart disease and 1-4 are various degrees of heart disease. We can see this below:"
   ]
  },
  {
   "cell_type": "code",
   "execution_count": 228,
   "metadata": {},
   "outputs": [
    {
     "data": {
      "text/plain": [
       "array([0, 2, 1, 3, 4])"
      ]
     },
     "execution_count": 228,
     "metadata": {},
     "output_type": "execute_result"
    }
   ],
   "source": [
    "y.unique()"
   ]
  },
  {
   "cell_type": "markdown",
   "metadata": {},
   "source": [
    "Since we are only making a tree that predicts if a person has a heart disease or not, we will convert the 5 different levels of heart diseases into 2 in the following way:\n",
    "\n",
    "0 = no heart disease and 1-4 = heart disease."
   ]
  },
  {
   "cell_type": "code",
   "execution_count": 229,
   "metadata": {},
   "outputs": [
    {
     "name": "stderr",
     "output_type": "stream",
     "text": [
      "<ipython-input-229-01d29338f9ee>:2: SettingWithCopyWarning: \n",
      "A value is trying to be set on a copy of a slice from a DataFrame\n",
      "\n",
      "See the caveats in the documentation: https://pandas.pydata.org/pandas-docs/stable/user_guide/indexing.html#returning-a-view-versus-a-copy\n",
      "  y[y_not_zero_index] = 1     # set each non-zero value in y to 1\n",
      "/Applications/anaconda3/lib/python3.8/site-packages/pandas/core/series.py:1020: SettingWithCopyWarning: \n",
      "A value is trying to be set on a copy of a slice from a DataFrame\n",
      "\n",
      "See the caveats in the documentation: https://pandas.pydata.org/pandas-docs/stable/user_guide/indexing.html#returning-a-view-versus-a-copy\n",
      "  self._where(~key, value, inplace=True)\n"
     ]
    },
    {
     "data": {
      "text/plain": [
       "array([0, 1])"
      ]
     },
     "execution_count": 229,
     "metadata": {},
     "output_type": "execute_result"
    }
   ],
   "source": [
    "y_not_zero_index = (y > 0)  # get the index for each non-zero value in y\n",
    "y[y_not_zero_index] = 1     # set each non-zero value in y to 1\n",
    "y.unique()"
   ]
  },
  {
   "cell_type": "markdown",
   "metadata": {},
   "source": [
    "## Building a Classification Tree"
   ]
  },
  {
   "cell_type": "code",
   "execution_count": 230,
   "metadata": {},
   "outputs": [],
   "source": [
    "from sklearn.model_selection import train_test_split\n",
    "X_train, X_test, y_train, y_test = train_test_split(X_encoded, y, random_state = 42)\n",
    "\n",
    "# Create a decision tree and fit it to the training data\n",
    "from sklearn.tree import DecisionTreeClassifier\n",
    "clf_dt = DecisionTreeClassifier(random_state=42)\n",
    "clf_dt = clf_dt.fit(X_train, y_train)"
   ]
  },
  {
   "cell_type": "code",
   "execution_count": 231,
   "metadata": {},
   "outputs": [
    {
     "data": {
      "text/plain": [
       "[Text(502.84056122448976, 392.0192307692308, 'ca <= 0.5\\ngini = 0.498\\nsamples = 222\\nvalue = [118, 104]\\nclass = No HD'),\n",
       " Text(301.0637755102041, 360.6576923076923, 'thal_7.0 <= 0.5\\ngini = 0.382\\nsamples = 132\\nvalue = [98, 34]\\nclass = No HD'),\n",
       " Text(183.62755102040816, 329.29615384615386, 'oldpeak <= 2.7\\ngini = 0.24\\nsamples = 93\\nvalue = [80, 13]\\nclass = No HD'),\n",
       " Text(128.1122448979592, 297.93461538461537, 'age <= 58.5\\ngini = 0.185\\nsamples = 87\\nvalue = [78, 9]\\nclass = No HD'),\n",
       " Text(68.3265306122449, 266.5730769230769, 'restbp_136.0 <= 0.5\\ngini = 0.061\\nsamples = 63\\nvalue = [61, 2]\\nclass = No HD'),\n",
       " Text(34.16326530612245, 235.21153846153845, 'restbp_108.0 <= 0.5\\ngini = 0.032\\nsamples = 61\\nvalue = [60, 1]\\nclass = No HD'),\n",
       " Text(17.081632653061224, 203.85, 'gini = 0.0\\nsamples = 59\\nvalue = [59, 0]\\nclass = No HD'),\n",
       " Text(51.244897959183675, 203.85, 'sex <= 0.5\\ngini = 0.5\\nsamples = 2\\nvalue = [1, 1]\\nclass = No HD'),\n",
       " Text(34.16326530612245, 172.48846153846154, 'gini = 0.0\\nsamples = 1\\nvalue = [1, 0]\\nclass = No HD'),\n",
       " Text(68.3265306122449, 172.48846153846154, 'gini = 0.0\\nsamples = 1\\nvalue = [0, 1]\\nclass = Yes HD'),\n",
       " Text(102.48979591836735, 235.21153846153845, 'cp_3.0 <= 0.5\\ngini = 0.5\\nsamples = 2\\nvalue = [1, 1]\\nclass = No HD'),\n",
       " Text(85.40816326530611, 203.85, 'gini = 0.0\\nsamples = 1\\nvalue = [0, 1]\\nclass = Yes HD'),\n",
       " Text(119.57142857142857, 203.85, 'gini = 0.0\\nsamples = 1\\nvalue = [1, 0]\\nclass = No HD'),\n",
       " Text(187.89795918367346, 266.5730769230769, 'oldpeak <= 1.45\\ngini = 0.413\\nsamples = 24\\nvalue = [17, 7]\\nclass = No HD'),\n",
       " Text(170.81632653061223, 235.21153846153845, 'age <= 68.5\\ngini = 0.484\\nsamples = 17\\nvalue = [10, 7]\\nclass = No HD'),\n",
       " Text(153.73469387755102, 203.85, 'fbs <= 0.5\\ngini = 0.498\\nsamples = 15\\nvalue = [8, 7]\\nclass = No HD'),\n",
       " Text(136.6530612244898, 172.48846153846154, 'thalach <= 145.5\\ngini = 0.497\\nsamples = 13\\nvalue = [6, 7]\\nclass = Yes HD'),\n",
       " Text(119.57142857142857, 141.12692307692305, 'gini = 0.0\\nsamples = 4\\nvalue = [0, 4]\\nclass = Yes HD'),\n",
       " Text(153.73469387755102, 141.12692307692305, 'restbp_130.0 <= 0.5\\ngini = 0.444\\nsamples = 9\\nvalue = [6, 3]\\nclass = No HD'),\n",
       " Text(136.6530612244898, 109.76538461538462, 'restbp_150.0 <= 0.5\\ngini = 0.375\\nsamples = 8\\nvalue = [6, 2]\\nclass = No HD'),\n",
       " Text(119.57142857142857, 78.40384615384613, 'cp_4.0 <= 0.5\\ngini = 0.245\\nsamples = 7\\nvalue = [6, 1]\\nclass = No HD'),\n",
       " Text(102.48979591836735, 47.0423076923077, 'sex <= 0.5\\ngini = 0.5\\nsamples = 2\\nvalue = [1, 1]\\nclass = No HD'),\n",
       " Text(85.40816326530611, 15.680769230769215, 'gini = 0.0\\nsamples = 1\\nvalue = [1, 0]\\nclass = No HD'),\n",
       " Text(119.57142857142857, 15.680769230769215, 'gini = 0.0\\nsamples = 1\\nvalue = [0, 1]\\nclass = Yes HD'),\n",
       " Text(136.6530612244898, 47.0423076923077, 'gini = 0.0\\nsamples = 5\\nvalue = [5, 0]\\nclass = No HD'),\n",
       " Text(153.73469387755102, 78.40384615384613, 'gini = 0.0\\nsamples = 1\\nvalue = [0, 1]\\nclass = Yes HD'),\n",
       " Text(170.81632653061223, 109.76538461538462, 'gini = 0.0\\nsamples = 1\\nvalue = [0, 1]\\nclass = Yes HD'),\n",
       " Text(170.81632653061223, 172.48846153846154, 'gini = 0.0\\nsamples = 2\\nvalue = [2, 0]\\nclass = No HD'),\n",
       " Text(187.89795918367346, 203.85, 'gini = 0.0\\nsamples = 2\\nvalue = [2, 0]\\nclass = No HD'),\n",
       " Text(204.9795918367347, 235.21153846153845, 'gini = 0.0\\nsamples = 7\\nvalue = [7, 0]\\nclass = No HD'),\n",
       " Text(239.14285714285714, 297.93461538461537, 'thalach <= 147.5\\ngini = 0.444\\nsamples = 6\\nvalue = [2, 4]\\nclass = Yes HD'),\n",
       " Text(222.0612244897959, 266.5730769230769, 'gini = 0.0\\nsamples = 3\\nvalue = [0, 3]\\nclass = Yes HD'),\n",
       " Text(256.2244897959184, 266.5730769230769, 'age <= 52.5\\ngini = 0.444\\nsamples = 3\\nvalue = [2, 1]\\nclass = No HD'),\n",
       " Text(239.14285714285714, 235.21153846153845, 'gini = 0.0\\nsamples = 2\\nvalue = [2, 0]\\nclass = No HD'),\n",
       " Text(273.3061224489796, 235.21153846153845, 'gini = 0.0\\nsamples = 1\\nvalue = [0, 1]\\nclass = Yes HD'),\n",
       " Text(418.5, 329.29615384615386, 'cp_4.0 <= 0.5\\ngini = 0.497\\nsamples = 39\\nvalue = [18, 21]\\nclass = Yes HD'),\n",
       " Text(358.7142857142857, 297.93461538461537, 'thalach <= 152.0\\ngini = 0.42\\nsamples = 20\\nvalue = [14, 6]\\nclass = No HD'),\n",
       " Text(324.55102040816325, 266.5730769230769, 'oldpeak <= 0.8\\ngini = 0.444\\nsamples = 6\\nvalue = [2, 4]\\nclass = Yes HD'),\n",
       " Text(307.46938775510205, 235.21153846153845, 'restbp_124.0 <= 0.5\\ngini = 0.444\\nsamples = 3\\nvalue = [2, 1]\\nclass = No HD'),\n",
       " Text(290.3877551020408, 203.85, 'gini = 0.0\\nsamples = 2\\nvalue = [2, 0]\\nclass = No HD'),\n",
       " Text(324.55102040816325, 203.85, 'gini = 0.0\\nsamples = 1\\nvalue = [0, 1]\\nclass = Yes HD'),\n",
       " Text(341.63265306122446, 235.21153846153845, 'gini = 0.0\\nsamples = 3\\nvalue = [0, 3]\\nclass = Yes HD'),\n",
       " Text(392.87755102040813, 266.5730769230769, 'restbp_110.0 <= 0.5\\ngini = 0.245\\nsamples = 14\\nvalue = [12, 2]\\nclass = No HD'),\n",
       " Text(375.7959183673469, 235.21153846153845, 'restbp_170.0 <= 0.5\\ngini = 0.142\\nsamples = 13\\nvalue = [12, 1]\\nclass = No HD'),\n",
       " Text(358.7142857142857, 203.85, 'gini = 0.0\\nsamples = 11\\nvalue = [11, 0]\\nclass = No HD'),\n",
       " Text(392.87755102040813, 203.85, 'chol <= 257.5\\ngini = 0.5\\nsamples = 2\\nvalue = [1, 1]\\nclass = No HD'),\n",
       " Text(375.7959183673469, 172.48846153846154, 'gini = 0.0\\nsamples = 1\\nvalue = [1, 0]\\nclass = No HD'),\n",
       " Text(409.9591836734694, 172.48846153846154, 'gini = 0.0\\nsamples = 1\\nvalue = [0, 1]\\nclass = Yes HD'),\n",
       " Text(409.9591836734694, 235.21153846153845, 'gini = 0.0\\nsamples = 1\\nvalue = [0, 1]\\nclass = Yes HD'),\n",
       " Text(478.2857142857143, 297.93461538461537, 'oldpeak <= 0.45\\ngini = 0.332\\nsamples = 19\\nvalue = [4, 15]\\nclass = Yes HD'),\n",
       " Text(461.204081632653, 266.5730769230769, 'age <= 42.0\\ngini = 0.49\\nsamples = 7\\nvalue = [4, 3]\\nclass = No HD'),\n",
       " Text(444.1224489795918, 235.21153846153845, 'gini = 0.0\\nsamples = 3\\nvalue = [0, 3]\\nclass = Yes HD'),\n",
       " Text(478.2857142857143, 235.21153846153845, 'gini = 0.0\\nsamples = 4\\nvalue = [4, 0]\\nclass = No HD'),\n",
       " Text(495.3673469387755, 266.5730769230769, 'gini = 0.0\\nsamples = 12\\nvalue = [0, 12]\\nclass = Yes HD'),\n",
       " Text(704.6173469387754, 360.6576923076923, 'cp_4.0 <= 0.5\\ngini = 0.346\\nsamples = 90\\nvalue = [20, 70]\\nclass = Yes HD'),\n",
       " Text(623.4795918367347, 329.29615384615386, 'oldpeak <= 0.55\\ngini = 0.499\\nsamples = 31\\nvalue = [16, 15]\\nclass = No HD'),\n",
       " Text(563.6938775510204, 297.93461538461537, 'cp_2.0 <= 0.5\\ngini = 0.401\\nsamples = 18\\nvalue = [13, 5]\\nclass = No HD'),\n",
       " Text(529.530612244898, 266.5730769230769, 'restbp_128.0 <= 0.5\\ngini = 0.165\\nsamples = 11\\nvalue = [10, 1]\\nclass = No HD'),\n",
       " Text(512.4489795918367, 235.21153846153845, 'gini = 0.0\\nsamples = 10\\nvalue = [10, 0]\\nclass = No HD'),\n",
       " Text(546.6122448979592, 235.21153846153845, 'gini = 0.0\\nsamples = 1\\nvalue = [0, 1]\\nclass = Yes HD'),\n",
       " Text(597.8571428571428, 266.5730769230769, 'exang <= 0.5\\ngini = 0.49\\nsamples = 7\\nvalue = [3, 4]\\nclass = Yes HD'),\n",
       " Text(580.7755102040816, 235.21153846153845, 'restecg <= 1.0\\ngini = 0.32\\nsamples = 5\\nvalue = [1, 4]\\nclass = Yes HD'),\n",
       " Text(563.6938775510204, 203.85, 'gini = 0.0\\nsamples = 1\\nvalue = [1, 0]\\nclass = No HD'),\n",
       " Text(597.8571428571428, 203.85, 'gini = 0.0\\nsamples = 4\\nvalue = [0, 4]\\nclass = Yes HD'),\n",
       " Text(614.9387755102041, 235.21153846153845, 'gini = 0.0\\nsamples = 2\\nvalue = [2, 0]\\nclass = No HD'),\n",
       " Text(683.2653061224489, 297.93461538461537, 'chol <= 349.5\\ngini = 0.355\\nsamples = 13\\nvalue = [3, 10]\\nclass = Yes HD'),\n",
       " Text(666.1836734693877, 266.5730769230769, 'thalach <= 176.0\\ngini = 0.278\\nsamples = 12\\nvalue = [2, 10]\\nclass = Yes HD'),\n",
       " Text(649.1020408163265, 235.21153846153845, 'restbp_130.0 <= 0.5\\ngini = 0.165\\nsamples = 11\\nvalue = [1, 10]\\nclass = Yes HD'),\n",
       " Text(632.0204081632653, 203.85, 'gini = 0.0\\nsamples = 8\\nvalue = [0, 8]\\nclass = Yes HD'),\n",
       " Text(666.1836734693877, 203.85, 'chol <= 243.5\\ngini = 0.444\\nsamples = 3\\nvalue = [1, 2]\\nclass = Yes HD'),\n",
       " Text(649.1020408163265, 172.48846153846154, 'gini = 0.0\\nsamples = 1\\nvalue = [1, 0]\\nclass = No HD'),\n",
       " Text(683.2653061224489, 172.48846153846154, 'gini = 0.0\\nsamples = 2\\nvalue = [0, 2]\\nclass = Yes HD'),\n",
       " Text(683.2653061224489, 235.21153846153845, 'gini = 0.0\\nsamples = 1\\nvalue = [1, 0]\\nclass = No HD'),\n",
       " Text(700.3469387755101, 266.5730769230769, 'gini = 0.0\\nsamples = 1\\nvalue = [1, 0]\\nclass = No HD'),\n",
       " Text(785.7551020408163, 329.29615384615386, 'restbp_106.0 <= 0.5\\ngini = 0.126\\nsamples = 59\\nvalue = [4, 55]\\nclass = Yes HD'),\n",
       " Text(768.6734693877551, 297.93461538461537, 'restbp_108.0 <= 0.5\\ngini = 0.098\\nsamples = 58\\nvalue = [3, 55]\\nclass = Yes HD'),\n",
       " Text(734.5102040816327, 266.5730769230769, 'age <= 63.5\\ngini = 0.069\\nsamples = 56\\nvalue = [2, 54]\\nclass = Yes HD'),\n",
       " Text(717.4285714285714, 235.21153846153845, 'gini = 0.0\\nsamples = 45\\nvalue = [0, 45]\\nclass = Yes HD'),\n",
       " Text(751.5918367346939, 235.21153846153845, 'restbp_128.0 <= 0.5\\ngini = 0.298\\nsamples = 11\\nvalue = [2, 9]\\nclass = Yes HD'),\n",
       " Text(734.5102040816327, 203.85, 'restbp_130.0 <= 0.5\\ngini = 0.18\\nsamples = 10\\nvalue = [1, 9]\\nclass = Yes HD'),\n",
       " Text(717.4285714285714, 172.48846153846154, 'gini = 0.0\\nsamples = 9\\nvalue = [0, 9]\\nclass = Yes HD'),\n",
       " Text(751.5918367346939, 172.48846153846154, 'gini = 0.0\\nsamples = 1\\nvalue = [1, 0]\\nclass = No HD'),\n",
       " Text(768.6734693877551, 203.85, 'gini = 0.0\\nsamples = 1\\nvalue = [1, 0]\\nclass = No HD'),\n",
       " Text(802.8367346938775, 266.5730769230769, 'age <= 57.5\\ngini = 0.5\\nsamples = 2\\nvalue = [1, 1]\\nclass = No HD'),\n",
       " Text(785.7551020408163, 235.21153846153845, 'gini = 0.0\\nsamples = 1\\nvalue = [1, 0]\\nclass = No HD'),\n",
       " Text(819.9183673469388, 235.21153846153845, 'gini = 0.0\\nsamples = 1\\nvalue = [0, 1]\\nclass = Yes HD'),\n",
       " Text(802.8367346938775, 297.93461538461537, 'gini = 0.0\\nsamples = 1\\nvalue = [1, 0]\\nclass = No HD')]"
      ]
     },
     "execution_count": 231,
     "metadata": {},
     "output_type": "execute_result"
    },
    {
     "data": {
      "image/png": "[encoded data removed]",
      "text/plain": [
       "<Figure size 1080x540 with 1 Axes>"
      ]
     },
     "metadata": {
      "needs_background": "light"
     },
     "output_type": "display_data"
    }
   ],
   "source": [
    "# Let's plot the tree\n",
    "from sklearn.tree import plot_tree\n",
    "plt.figure(figsize= (15, 7.5))\n",
    "plot_tree(clf_dt,\n",
    "          filled=True,\n",
    "          rounded=True,\n",
    "          class_names=[\"No HD\", \"Yes HD\"],\n",
    "          feature_names = X_encoded.columns)\n"
   ]
  },
  {
   "cell_type": "markdown",
   "metadata": {},
   "source": [
    "There is our Decision Tree!! Looks small but amazing!! \n",
    "\n",
    "Let's see how it performs on the Testing dataset."
   ]
  },
  {
   "cell_type": "code",
   "execution_count": 232,
   "metadata": {},
   "outputs": [],
   "source": [
    "from sklearn.model_selection import cross_val_score    # For cross validation \n",
    "from sklearn.metrics import confusion_matrix           # to create a confusion matrix\n",
    "from sklearn.metrics import accuracy_score             # To output accuracy score of the model\n",
    "from sklearn.metrics import plot_confusion_matrix      # To plot confusion Matrix"
   ]
  },
  {
   "cell_type": "code",
   "execution_count": 233,
   "metadata": {},
   "outputs": [
    {
     "data": {
      "text/plain": [
       "<sklearn.metrics._plot.confusion_matrix.ConfusionMatrixDisplay at 0x7fb96a5cfc10>"
      ]
     },
     "execution_count": 233,
     "metadata": {},
     "output_type": "execute_result"
    },
    {
     "data": {
      "image/png": "[encoded data removed]",
      "text/plain": [
       "<Figure size 432x288 with 2 Axes>"
      ]
     },
     "metadata": {
      "needs_background": "light"
     },
     "output_type": "display_data"
    }
   ],
   "source": [
    "plot_confusion_matrix(clf_dt, X_test, y_test, display_labels=[\"Does not have HD\", \"Has HD\"])"
   ]
  },
  {
   "cell_type": "code",
   "execution_count": 234,
   "metadata": {},
   "outputs": [
    {
     "data": {
      "text/plain": [
       "0.76"
      ]
     },
     "execution_count": 234,
     "metadata": {},
     "output_type": "execute_result"
    }
   ],
   "source": [
    "y_pred = clf_dt.predict(X_test)\n",
    "accuracy_score(y_test, y_pred)"
   ]
  },
  {
   "cell_type": "markdown",
   "metadata": {},
   "source": [
    "In the confusion matrix, we see that $31$ people were correctly classified who have Heart Disease. That means $31/(31+11) = 74 \\%$ were correctly classified. \n",
    "\n",
    "And out of $7 + 26 = 33$ people that have Heart Disease, $26 (79\\%)$ were correctly classified.\n",
    "\n",
    "Can we do better? One thing that might be holding this Classification Tree back is that it may have overfit the training dataset. So, let's prune the tree. Pruning, in theory, should solve the overfitting problem and gives us better results."
   ]
  },
  {
   "cell_type": "markdown",
   "metadata": {},
   "source": [
    "# Cost Complexity Pruning Part 1: Visualize alpha"
   ]
  },
  {
   "cell_type": "markdown",
   "metadata": {},
   "source": [
    "**Decision Trees** are known to being overfit to the Training dataset, and there are a lot of parameters, like *max_depth* and *min_samples*, that are designed to reduce overfitting. However, pruning a tree with **cost complexity pruning** can simplify the whole process of finding a smaller tree that improves the accuracy with the Testing Dataset.\n",
    "\n",
    "Pruning a decision tree is all about finding the right value for the pruning parameter, *alpha*, which controls how little or how much pruning happens. One to find the optimal value for *alpha* is to plot the accuracy of the tree as a function values. We will do this for both the Training Dataset and the Testing Dataset. \n",
    "\n",
    "First, let's extract the different values of *alpha* that are avaiable for this tree and build a pruned tree for each value for *alpha*.\n",
    "\n",
    "**Note**: We omit the maximum value for alpha with *ccp_alphas = ccp_alphas[:-1]* because it would prune all leaves, leaving us with only a root instead of a tree."
   ]
  },
  {
   "cell_type": "code",
   "execution_count": 235,
   "metadata": {},
   "outputs": [],
   "source": [
    "path = clf_dt.cost_complexity_pruning_path(X_train, y_train)    # Determines the values for alpha\n",
    "ccp_alphas = path.ccp_alphas       # Extract different values for alpha\n",
    "ccp_alphas = ccp_alphas[: -1]      # Excluding the maximum value for alpha\n",
    "\n",
    "clf_dts = []                        # Create an array that we will put decision trees into\n",
    "\n",
    "# Now create one decision tree per value for alpha and store it in the array\n",
    "for ccp_alpha in ccp_alphas:\n",
    "    clf_dt = DecisionTreeClassifier(random_state=0, ccp_alpha = ccp_alpha)\n",
    "    clf_dt.fit(X_train, y_train)\n",
    "    clf_dts.append(clf_dt)\n"
   ]
  },
  {
   "cell_type": "markdown",
   "metadata": {},
   "source": [
    "Now, lets graph the accuracy of the trees using the **Training Dataset** and the **Testing Dataset**  as a function of the alpha."
   ]
  },
  {
   "cell_type": "code",
   "execution_count": 236,
   "metadata": {},
   "outputs": [
    {
     "data": {
      "image/png": "[encoded data removed]",
      "text/plain": [
       "<Figure size 432x288 with 1 Axes>"
      ]
     },
     "metadata": {
      "needs_background": "light"
     },
     "output_type": "display_data"
    }
   ],
   "source": [
    "train_scores = [clf_dt.score(X_train, y_train) for clf_dt in clf_dts]\n",
    "test_scores = [clf_dt.score(X_test, y_test) for clf_dt in clf_dts]\n",
    "\n",
    "fig, ax = plt.subplots()\n",
    "ax.set_xlabel(\"alpha\")\n",
    "ax.set_ylabel(\"accuracy\")\n",
    "ax.set_title(\"Accuracy vs alpha for traning and testing sets\")\n",
    "ax.plot(ccp_alphas, train_scores, marker = 'o', label = \"train\", drawstyle = \"steps-post\")\n",
    "ax.plot(ccp_alphas, test_scores, marker = 'o', label = \"test\", drawstyle = \"steps-post\")\n",
    "ax.legend()\n",
    "plt.show()"
   ]
  },
  {
   "cell_type": "markdown",
   "metadata": {},
   "source": [
    "In the graph above, we see that the accuracy for the Testing Dataset hits its maximum value when **alpha** is about **0.016**. After this value for **alpha**, the accuracy of the Training Dataset drops off and that suggests we should set **ccp_alpha = 0.016**.\n",
    "\n",
    "**Note**: When we apply **Cost Complexity Pruning** to a **Classification Tree**, values for *alpha*goes from 0 from 1, because GINI Scores goes from 0 to 1. In contrast values for *alpha* for a **Regression Tree** can be much larger since the sum of squared residuals can, in theory, go from 0 to $\\infty$."
   ]
  },
  {
   "cell_type": "markdown",
   "metadata": {},
   "source": [
    "Since there are many ways we could have divided the original into Training and Testing Datasets, how do we know we used the best Training Dataset and how do we know we used the best Testing Dataset? \n",
    "\n",
    "Typically, we answer this question with **10-Fold Cross Validation**. So that's what we are going to do now, and we will do it with the *cross_val_score()* function."
   ]
  },
  {
   "cell_type": "markdown",
   "metadata": {},
   "source": [
    "## Cost Complexity Pruning Part 2: Cross Validation For Finding the Best Alpha"
   ]
  },
  {
   "cell_type": "markdown",
   "metadata": {},
   "source": [
    "The graph we just drew suggested one value for alpha, **0.016**, but another set of data might suggest another optimal value."
   ]
  },
  {
   "cell_type": "markdown",
   "metadata": {},
   "source": [
    "First, let's demonstrate that different training and testing datasets result in trees with different accuracies when we set *ccp_alpha = 0.016*. We will do this by using the *cross_val_score()* function to generate different training and testing datasets and then train and test the tree with those datasets."
   ]
  },
  {
   "cell_type": "code",
   "execution_count": 237,
   "metadata": {},
   "outputs": [
    {
     "data": {
      "text/plain": [
       "<AxesSubplot:xlabel='tree'>"
      ]
     },
     "execution_count": 237,
     "metadata": {},
     "output_type": "execute_result"
    },
    {
     "data": {
      "image/png": "[encoded data removed]",
      "text/plain": [
       "<Figure size 432x288 with 1 Axes>"
      ]
     },
     "metadata": {
      "needs_background": "light"
     },
     "output_type": "display_data"
    }
   ],
   "source": [
    "clf_dt = DecisionTreeClassifier(random_state= 42, ccp_alpha=0.016)\n",
    "\n",
    "# Now use 5-fold cross validation. Create 5 different training and tesing datasets that \n",
    "# are then used to train and test the tree\n",
    "# NOTE: we use 5-fold because we do not have tons of data...\n",
    "\n",
    "scores = cross_val_score(clf_dt, X_train, y_train, cv=5)\n",
    "df = pd.DataFrame(data={'tree': range(5), 'accuracy': scores} )\n",
    "\n",
    "df.plot(x = 'tree', y = 'accuracy', marker = 'o', linestyle = '--')"
   ]
  },
  {
   "cell_type": "markdown",
   "metadata": {},
   "source": [
    "The graph above shows that using different **Training** and **Tesing** data with the same alpha resulted in different accuracies, suggesting that alpha is sensitive to the datasets. So, instead of picking a single a single **Training** dataset and single **Testing** dataset, let's use **cross-validation** to find the optimal value for *cpp_alpha*."
   ]
  },
  {
   "cell_type": "code",
   "execution_count": 238,
   "metadata": {},
   "outputs": [
    {
     "data": {
      "text/plain": [
       "<AxesSubplot:xlabel='alpha'>"
      ]
     },
     "execution_count": 238,
     "metadata": {},
     "output_type": "execute_result"
    },
    {
     "data": {
      "image/png": "[encoded data removed]",
      "text/plain": [
       "<Figure size 432x288 with 1 Axes>"
      ]
     },
     "metadata": {
      "needs_background": "light"
     },
     "output_type": "display_data"
    }
   ],
   "source": [
    "# Create an array to store the results of each fold during cross validation\n",
    "alpha_loop_values = []\n",
    "\n",
    "# For each candidate value for alpha, we will run 5-fold cross validation\n",
    "# Then we will store the mean and standard deviation of the scores (the accuracy) for each cal\n",
    "# to cross_val_score in alpha_loop_values...\n",
    "\n",
    "for ccp_alpha in ccp_alphas:\n",
    "    clf_dt = DecisionTreeClassifier(random_state=0, ccp_alpha = ccp_alpha)\n",
    "    scores = cross_val_score(clf_dt, X_train, y_train, cv = 5)\n",
    "    alpha_loop_values.append([ccp_alpha, np.mean(scores), np.std(scores)])\n",
    "\n",
    "# Now we can draw a graph of the means and standard deviations of the scores \n",
    "# for each candidate value for alpha\n",
    "\n",
    "alpha_results = pd.DataFrame(alpha_loop_values,\n",
    "                             columns=['alpha', 'mean_accuracy', 'std'])\n",
    "\n",
    "alpha_results.plot(x = 'alpha',\n",
    "                   y = 'mean_accuracy',\n",
    "                   marker = 'o',\n",
    "                   linestyle = '--')\n"
   ]
  },
  {
   "cell_type": "markdown",
   "metadata": {},
   "source": [
    "Using Cross validation, we can see that, over all, instead of setting *cpp_alpha = 0.016*, we need to set it to something closer to 0.014. We can find the exact value with:"
   ]
  },
  {
   "cell_type": "code",
   "execution_count": 239,
   "metadata": {},
   "outputs": [
    {
     "data": {
      "text/html": [
       "<div>\n",
       "<style scoped>\n",
       "    .dataframe tbody tr th:only-of-type {\n",
       "        vertical-align: middle;\n",
       "    }\n",
       "\n",
       "    .dataframe tbody tr th {\n",
       "        vertical-align: top;\n",
       "    }\n",
       "\n",
       "    .dataframe thead th {\n",
       "        text-align: right;\n",
       "    }\n",
       "</style>\n",
       "<table border=\"1\" class=\"dataframe\">\n",
       "  <thead>\n",
       "    <tr style=\"text-align: right;\">\n",
       "      <th></th>\n",
       "      <th>alpha</th>\n",
       "      <th>mean_accuracy</th>\n",
       "      <th>std</th>\n",
       "    </tr>\n",
       "  </thead>\n",
       "  <tbody>\n",
       "    <tr>\n",
       "      <th>21</th>\n",
       "      <td>0.014225</td>\n",
       "      <td>0.743232</td>\n",
       "      <td>0.091736</td>\n",
       "    </tr>\n",
       "  </tbody>\n",
       "</table>\n",
       "</div>"
      ],
      "text/plain": [
       "       alpha  mean_accuracy       std\n",
       "21  0.014225       0.743232  0.091736"
      ]
     },
     "execution_count": 239,
     "metadata": {},
     "output_type": "execute_result"
    }
   ],
   "source": [
    "alpha_results[\n",
    "    (alpha_results['alpha'] > 0.014) & (alpha_results['alpha'] < 0.015)\n",
    "]"
   ]
  },
  {
   "cell_type": "markdown",
   "metadata": {},
   "source": [
    "Now let's store the ideal value for alpha so that we can use it to build the best tree."
   ]
  },
  {
   "cell_type": "code",
   "execution_count": 240,
   "metadata": {},
   "outputs": [
    {
     "data": {
      "text/plain": [
       "21    0.014225\n",
       "Name: alpha, dtype: float64"
      ]
     },
     "execution_count": 240,
     "metadata": {},
     "output_type": "execute_result"
    }
   ],
   "source": [
    "ideal_ccp_alpha = alpha_results[\n",
    "    (alpha_results['alpha'] > 0.014) & (alpha_results['alpha'] < 0.015)\n",
    "]['alpha']\n",
    "\n",
    "ideal_ccp_alpha"
   ]
  },
  {
   "cell_type": "markdown",
   "metadata": {},
   "source": [
    "**NOTE**: At this point, Python things that *ideal_ccp_alpha* is a series, which is a type of array. We can tell because when we printed *ideal_cpp_alpha* out, we got two bits of stuff. The first one was 21, which is the index in the series, the second, 0.014225, is the value we want. So we can convert this from a series to a float with the following command:"
   ]
  },
  {
   "cell_type": "code",
   "execution_count": 241,
   "metadata": {},
   "outputs": [
    {
     "data": {
      "text/plain": [
       "0.014224751066856332"
      ]
     },
     "execution_count": 241,
     "metadata": {},
     "output_type": "execute_result"
    }
   ],
   "source": [
    "# Convert ideal_ccp_alpha from a series to a float\n",
    "ideal_ccp_alpha = float(ideal_ccp_alpha)\n",
    "ideal_ccp_alpha"
   ]
  },
  {
   "cell_type": "markdown",
   "metadata": {},
   "source": [
    "**YAYAYA!!** Now we have the ideal value for *alpha* and we can build, evaluate and draw the final **Classification Tree**."
   ]
  },
  {
   "cell_type": "markdown",
   "metadata": {},
   "source": [
    "## Building, Evaluating, Drawing and Interpreting the Final Classification Tree"
   ]
  },
  {
   "cell_type": "markdown",
   "metadata": {},
   "source": [
    "Now that we have the ideal value for *alpha*, we can build the final **Classification Tree** by setting *ccp_alpha = ideal_cpp_alpha*:"
   ]
  },
  {
   "cell_type": "code",
   "execution_count": 242,
   "metadata": {},
   "outputs": [],
   "source": [
    "# Build and train a new decision tree, only this time use the optimal value for alpha\n",
    "clf_dt_pruned = DecisionTreeClassifier(random_state=0,\n",
    "                                       ccp_alpha=ideal_ccp_alpha)\n",
    "clf_dt_pruned = clf_dt_pruned.fit(X_train, y_train)"
   ]
  },
  {
   "cell_type": "code",
   "execution_count": 243,
   "metadata": {},
   "outputs": [
    {
     "data": {
      "text/plain": [
       "<sklearn.metrics._plot.confusion_matrix.ConfusionMatrixDisplay at 0x7fb96a401670>"
      ]
     },
     "execution_count": 243,
     "metadata": {},
     "output_type": "execute_result"
    },
    {
     "data": {
      "image/png": "[encoded data removed]",
      "text/plain": [
       "<Figure size 432x288 with 2 Axes>"
      ]
     },
     "metadata": {
      "needs_background": "light"
     },
     "output_type": "display_data"
    }
   ],
   "source": [
    "plot_confusion_matrix(clf_dt_pruned,\n",
    "                      X_test,\n",
    "                      y_test,\n",
    "                      display_labels=[\"Does not have HD\", \"Has HD\"])"
   ]
  },
  {
   "cell_type": "markdown",
   "metadata": {},
   "source": [
    "We see that pruned tree is better at classifying patients than the full sized tree."
   ]
  },
  {
   "cell_type": "markdown",
   "metadata": {},
   "source": [
    "Here, total number of patients who does not Heart Disease are 42. Our model predicted 34 of them correctly and 8 incorrectly, giving us an accuracy of $81\\%$.\n",
    "\n",
    "Again, total number of patients who has a Heart Disease are 33. Out of those, our model predicted 28 correctly and 5 incorrectly, giving us an accuracy of $79\\%$.\n",
    "\n",
    "These accuracies are better than our first model.\n",
    "\n",
    "The last thing we are going to do is draw the pruned tree and disuss how to interpret it"
   ]
  },
  {
   "cell_type": "code",
   "execution_count": 244,
   "metadata": {},
   "outputs": [
    {
     "data": {
      "text/plain": [
       "[Text(482.8846153846154, 380.52, 'ca <= 0.5\\ngini = 0.498\\nsamples = 222\\nvalue = [118, 104]\\nclass = No HD'),\n",
       " Text(257.53846153846155, 271.8, 'thal_7.0 <= 0.5\\ngini = 0.382\\nsamples = 132\\nvalue = [98, 34]\\nclass = No HD'),\n",
       " Text(128.76923076923077, 163.07999999999998, 'oldpeak <= 2.7\\ngini = 0.24\\nsamples = 93\\nvalue = [80, 13]\\nclass = No HD'),\n",
       " Text(64.38461538461539, 54.360000000000014, 'gini = 0.185\\nsamples = 87\\nvalue = [78, 9]\\nclass = No HD'),\n",
       " Text(193.15384615384616, 54.360000000000014, 'gini = 0.444\\nsamples = 6\\nvalue = [2, 4]\\nclass = Yes HD'),\n",
       " Text(386.3076923076923, 163.07999999999998, 'cp_4.0 <= 0.5\\ngini = 0.497\\nsamples = 39\\nvalue = [18, 21]\\nclass = Yes HD'),\n",
       " Text(321.9230769230769, 54.360000000000014, 'gini = 0.42\\nsamples = 20\\nvalue = [14, 6]\\nclass = No HD'),\n",
       " Text(450.69230769230774, 54.360000000000014, 'gini = 0.332\\nsamples = 19\\nvalue = [4, 15]\\nclass = Yes HD'),\n",
       " Text(708.2307692307693, 271.8, 'cp_4.0 <= 0.5\\ngini = 0.346\\nsamples = 90\\nvalue = [20, 70]\\nclass = Yes HD'),\n",
       " Text(643.8461538461538, 163.07999999999998, 'oldpeak <= 0.55\\ngini = 0.499\\nsamples = 31\\nvalue = [16, 15]\\nclass = No HD'),\n",
       " Text(579.4615384615385, 54.360000000000014, 'gini = 0.401\\nsamples = 18\\nvalue = [13, 5]\\nclass = No HD'),\n",
       " Text(708.2307692307693, 54.360000000000014, 'gini = 0.355\\nsamples = 13\\nvalue = [3, 10]\\nclass = Yes HD'),\n",
       " Text(772.6153846153846, 163.07999999999998, 'gini = 0.126\\nsamples = 59\\nvalue = [4, 55]\\nclass = Yes HD')]"
      ]
     },
     "execution_count": 244,
     "metadata": {},
     "output_type": "execute_result"
    },
    {
     "data": {
      "image/png": "[encoded data removed]",
      "text/plain": [
       "<Figure size 1080x576 with 1 Axes>"
      ]
     },
     "metadata": {
      "needs_background": "light"
     },
     "output_type": "display_data"
    }
   ],
   "source": [
    "plt.figure(figsize=(15, 8))\n",
    "plot_tree(clf_dt_pruned,\n",
    "          filled=True,\n",
    "          rounded=True,\n",
    "          class_names=[\"No HD\", \"Yes HD\"],\n",
    "          feature_names=X_encoded.columns)"
   ]
  }
 ],
 "metadata": {
  "kernelspec": {
   "display_name": "Python 3.8.5 64-bit ('anaconda3')",
   "language": "python",
   "name": "python3"
  },
  "language_info": {
   "codemirror_mode": {
    "name": "ipython",
    "version": 3
   },
   "file_extension": ".py",
   "mimetype": "text/x-python",
   "name": "python",
   "nbconvert_exporter": "python",
   "pygments_lexer": "ipython3",
   "version": "3.8.5"
  },
  "orig_nbformat": 4,
  "vscode": {
   "interpreter": {
    "hash": "cd78fef2128015050713e82ca51c6520b11aee7c9ee8df750520bbbc7384cbaa"
   }
  }
 },
 "nbformat": 4,
 "nbformat_minor": 2
}
