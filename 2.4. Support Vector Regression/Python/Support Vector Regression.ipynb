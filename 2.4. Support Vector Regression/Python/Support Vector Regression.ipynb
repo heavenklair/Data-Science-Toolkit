{
 "cells": [
  {
   "cell_type": "markdown",
   "metadata": {},
   "source": [
    "# Support Vector Regression"
   ]
  },
  {
   "cell_type": "markdown",
   "metadata": {},
   "source": [
    "Mathematics behind SVR: https://youtu.be/hCOIMkcsm_g\n",
    "\n",
    "PDF: https://library.oapen.org/bitstream/handle/20.500.12657/28170/1001824.pdf?sequence=1&isAllowed=y \n",
    "\n",
    "(Chapter 4)"
   ]
  },
  {
   "cell_type": "markdown",
   "metadata": {},
   "source": [
    "### Importing the libraries"
   ]
  },
  {
   "cell_type": "code",
   "execution_count": 2,
   "metadata": {},
   "outputs": [],
   "source": [
    "import numpy as np\n",
    "import matplotlib.pyplot as plt\n",
    "import pandas as pd"
   ]
  },
  {
   "cell_type": "markdown",
   "metadata": {},
   "source": [
    "### Importing the dataset"
   ]
  },
  {
   "cell_type": "code",
   "execution_count": 3,
   "metadata": {},
   "outputs": [],
   "source": [
    "dataset = pd.read_csv('Position_Salaries.csv')\n",
    "X = dataset.iloc[:, 1:-1].values\n",
    "y = dataset.iloc[:, -1].values"
   ]
  },
  {
   "cell_type": "code",
   "execution_count": 4,
   "metadata": {},
   "outputs": [
    {
     "name": "stdout",
     "output_type": "stream",
     "text": [
      "[[ 1]\n",
      " [ 2]\n",
      " [ 3]\n",
      " [ 4]\n",
      " [ 5]\n",
      " [ 6]\n",
      " [ 7]\n",
      " [ 8]\n",
      " [ 9]\n",
      " [10]]\n",
      "[  45000   50000   60000   80000  110000  150000  200000  300000  500000\n",
      " 1000000]\n"
     ]
    }
   ],
   "source": [
    "print(X)\n",
    "print(y)"
   ]
  },
  {
   "cell_type": "markdown",
   "metadata": {},
   "source": [
    "### Feature Scaling"
   ]
  },
  {
   "cell_type": "markdown",
   "metadata": {},
   "source": [
    "Until now, we have had a split of the dataset between training set and the test set, but since the dataset is too small for this example, we are not spiltting the dataset into sets. So we need to apply feature scaling in a specific way for this example. That is because we want to leverage the maximum data in order to learn the correlations with the position salaries and levels.\n",
    "\n",
    "Important Point:\n",
    "1. We will apply feature scaling on the whole matrix of feature X.\n",
    "2. Earlier, we only applied feature scaling to the X_train and X_test, and we did not apply it to the dependent variable y. In this case, we will apply feature to all the those because, upon looking at the dataset, we can see the difference between the values of Levels column, and Salary column. There is a huge difference, which can create a problem by not letting us analyze the data properly. So we need to apply feature scaling to those in this case. "
   ]
  },
  {
   "cell_type": "markdown",
   "metadata": {},
   "source": [
    "### When to apply Feature Scaling?\n",
    "1. We do not apply feature scaling to some dummy variables resulting from onehotencoding.\n",
    "2. We do not apply feature scaling when a dependent variable takes binary values like zero and one. (or either if the values are already in the right range)\n",
    "3. We DO APPLY feature scaling when the dependent variable takes super high values with respect to the other features. We apply it to all the features, and the dependent variable in the same range.\n",
    "4. We DO APPLY feature scaling whenever we want to split the dataset into the training set and the test set (after the split)."
   ]
  },
  {
   "cell_type": "markdown",
   "metadata": {},
   "source": [
    "We need to change the format of the y dataset into a 2-D array, like the format X dataset has. Why do we need to do it?\n",
    "\n",
    "That is because the standardScaler class (from sklearn.preprocessing import StandardScaler) that will perform standardization (feature scaling) expect one unique format in its input.\n"
   ]
  },
  {
   "cell_type": "code",
   "execution_count": 5,
   "metadata": {},
   "outputs": [
    {
     "name": "stdout",
     "output_type": "stream",
     "text": [
      "[[  45000]\n",
      " [  50000]\n",
      " [  60000]\n",
      " [  80000]\n",
      " [ 110000]\n",
      " [ 150000]\n",
      " [ 200000]\n",
      " [ 300000]\n",
      " [ 500000]\n",
      " [1000000]]\n"
     ]
    }
   ],
   "source": [
    "y = y.reshape(len(y), 1) \n",
    "print(y)"
   ]
  },
  {
   "cell_type": "markdown",
   "metadata": {},
   "source": [
    "We are ready to apply feature scaling. Grab the tool from the data preprocessing toolkit (feature scaling tool). Since we do not have a training and test set here, so we will not apply feature scaling to those sets. Instead we will apply feature scaling to the matrix of feature (X). That is what the first three lines of code are doing here.\n",
    "\n",
    "Since we also need to scale the dependent variable vector, the salaries. We are not going to use the same standard scalar object on both the matrix of features X and the dependent variable vector y. That is because when we fit the object \"sc\" on the data, it computes the mean and the standard deviation of that variable. Since, we do not have the same mean and same standard deviation for all levels, and salaries, we need to create two standard objects, one that will fit X in order to compute the mean and SD of that position levels, and the other one, that will be fitted to y to compute the mean and SD of the salaries."
   ]
  },
  {
   "cell_type": "code",
   "execution_count": 7,
   "metadata": {},
   "outputs": [],
   "source": [
    "from sklearn.preprocessing import StandardScaler\n",
    "sc_X = StandardScaler()\n",
    "X = sc_X.fit_transform(X)\n",
    "\n",
    "sc_y = StandardScaler()\n",
    "y = sc_y.fit_transform(y)\n"
   ]
  },
  {
   "cell_type": "code",
   "execution_count": 8,
   "metadata": {},
   "outputs": [
    {
     "name": "stdout",
     "output_type": "stream",
     "text": [
      "[[-1.5666989 ]\n",
      " [-1.21854359]\n",
      " [-0.87038828]\n",
      " [-0.52223297]\n",
      " [-0.17407766]\n",
      " [ 0.17407766]\n",
      " [ 0.52223297]\n",
      " [ 0.87038828]\n",
      " [ 1.21854359]\n",
      " [ 1.5666989 ]]\n"
     ]
    }
   ],
   "source": [
    "print(X)"
   ]
  },
  {
   "cell_type": "code",
   "execution_count": 9,
   "metadata": {},
   "outputs": [
    {
     "name": "stdout",
     "output_type": "stream",
     "text": [
      "[[-0.72004253]\n",
      " [-0.70243757]\n",
      " [-0.66722767]\n",
      " [-0.59680786]\n",
      " [-0.49117815]\n",
      " [-0.35033854]\n",
      " [-0.17428902]\n",
      " [ 0.17781001]\n",
      " [ 0.88200808]\n",
      " [ 2.64250325]]\n"
     ]
    }
   ],
   "source": [
    "print(y)"
   ]
  },
  {
   "cell_type": "markdown",
   "metadata": {},
   "source": [
    "This finishes the data preprocessing part."
   ]
  },
  {
   "cell_type": "markdown",
   "metadata": {},
   "source": [
    "### Training the SVR model on the whole dataset"
   ]
  },
  {
   "cell_type": "markdown",
   "metadata": {},
   "source": [
    "Now, we will build the model. We will build it with ski kit learn. We will build it with the SVR class, which belong to a module of skikit learn called SVM."
   ]
  },
  {
   "cell_type": "code",
   "execution_count": 13,
   "metadata": {},
   "outputs": [
    {
     "name": "stderr",
     "output_type": "stream",
     "text": [
      "/Applications/anaconda3/lib/python3.8/site-packages/sklearn/utils/validation.py:72: DataConversionWarning: A column-vector y was passed when a 1d array was expected. Please change the shape of y to (n_samples, ), for example using ravel().\n",
      "  return f(**kwargs)\n"
     ]
    },
    {
     "data": {
      "text/plain": [
       "SVR()"
      ]
     },
     "execution_count": 13,
     "metadata": {},
     "output_type": "execute_result"
    }
   ],
   "source": [
    "from sklearn.svm import SVR\n",
    "regressor = SVR(kernel = 'rbf')       # calling the class\n",
    "# With this, we have created the SVR model. Now we need to train it\n",
    "regressor.fit(X, y)"
   ]
  },
  {
   "cell_type": "markdown",
   "metadata": {},
   "source": [
    "In the SVR regressor, we need to input something because of the kernels. We will learn about kernels later, but, to give an intution, kernels who learn some linear relationship are called linear kernel. Non linear kernel learn non linear relationship, and example of such kernel is radial basis function (rbf). That is what we are going to use in this example. To use it, all we need to do is input \"kernel = 'rbf'\" inside the regressor."
   ]
  },
  {
   "cell_type": "markdown",
   "metadata": {},
   "source": [
    "### Predicting the SVR Results"
   ]
  },
  {
   "cell_type": "markdown",
   "metadata": {},
   "source": [
    "Since the matrix of feature (X) and the vector y was scaled before, we cannot input the value 6.5 in the predict function to obtain the desired result. This is how we did it earlier, but there was no feature scaling involved before. So we will not be able to use the directly 6.5. Rather, we need to scale the value 6.5 according to how we scaled the feature values. For that we need to call scalar object for X which is \"sc_X\" and from this object, apply the transformation. This is feature scale the value of 6.5."
   ]
  },
  {
   "cell_type": "code",
   "execution_count": 15,
   "metadata": {},
   "outputs": [
    {
     "data": {
      "text/plain": [
       "array([-0.27861589])"
      ]
     },
     "execution_count": 15,
     "metadata": {},
     "output_type": "execute_result"
    }
   ],
   "source": [
    "regressor.predict(sc_X.transform([[6.5]]))"
   ]
  },
  {
   "cell_type": "markdown",
   "metadata": {},
   "source": [
    "We can see that the value is coming out to be decimals, which confirms that the predicted result is inlined with the scale. Even tho this result is correct, we need to convert this result back to the original scale. In other words, we need to reverse the scaling. \n",
    "\n",
    "This method is called \"inverse transform method\".\n",
    "\n",
    "Any method has to be called from an object. Here the object is sc_y. That is because we want to reverse the scaling that was used to transform the dependent variable vector y."
   ]
  },
  {
   "cell_type": "code",
   "execution_count": 16,
   "metadata": {},
   "outputs": [
    {
     "data": {
      "text/plain": [
       "array([170370.0204065])"
      ]
     },
     "execution_count": 16,
     "metadata": {},
     "output_type": "execute_result"
    }
   ],
   "source": [
    "sc_y.inverse_transform(regressor.predict(sc_X.transform([[6.5]])))"
   ]
  },
  {
   "cell_type": "markdown",
   "metadata": {},
   "source": [
    "Hence the result is in the correct scale and very close to our intution."
   ]
  },
  {
   "cell_type": "markdown",
   "metadata": {},
   "source": [
    "### Visualising the results from SVR Model"
   ]
  },
  {
   "cell_type": "code",
   "execution_count": 27,
   "metadata": {},
   "outputs": [
    {
     "data": {
      "image/png": "[encoded data removed]",
      "text/plain": [
       "<Figure size 432x288 with 1 Axes>"
      ]
     },
     "metadata": {
      "needs_background": "light"
     },
     "output_type": "display_data"
    }
   ],
   "source": [
    "plt.scatter(sc_X.inverse_transform(X), sc_y.inverse_transform(y), color = 'red')\n",
    "plt.plot(sc_X.inverse_transform(X), sc_y.inverse_transform(regressor.predict(X)), color = 'blue')\n",
    "plt.title('Truth or Bluff (Support Vector Regresion)')\n",
    "plt.xlabel('Position Level')\n",
    "plt.ylabel('Salary')\n",
    "plt.show()"
   ]
  },
  {
   "cell_type": "markdown",
   "metadata": {},
   "source": [
    "In the first two lines of code above, we need to use the inverse transform method so taht we can get values of back into the original scale. That is why we are using the \"sc_X.inverse_transform(X)\" and similarly for y."
   ]
  },
  {
   "cell_type": "markdown",
   "metadata": {},
   "source": [
    "### Visualising the results from SVR Model (for higher resolution and smoother curve)"
   ]
  },
  {
   "cell_type": "code",
   "execution_count": 31,
   "metadata": {},
   "outputs": [
    {
     "data": {
      "image/png": "[encoded data removed]",
      "text/plain": [
       "<Figure size 432x288 with 1 Axes>"
      ]
     },
     "metadata": {
      "needs_background": "light"
     },
     "output_type": "display_data"
    }
   ],
   "source": [
    "X_grid = np.arange(min(sc_X.inverse_transform(X)), max(sc_X.inverse_transform(X)), 0.1)\n",
    "X_grid = X_grid.reshape(len(X_grid), 1)\n",
    "\n",
    "plt.scatter(sc_X.inverse_transform(X), sc_y.inverse_transform(y), color = 'red')\n",
    "plt.plot(X_grid, sc_y.inverse_transform(regressor.predict(sc_X.transform(X_grid))), color = 'blue')\n",
    "plt.title('Truth or Bluff (Support Vector Regresion)')\n",
    "plt.xlabel('Position Level')\n",
    "plt.ylabel('Salary')\n",
    "plt.show()"
   ]
  },
  {
   "cell_type": "markdown",
   "metadata": {},
   "source": [
    "\"plt.plot(X_grid, sc_y.inverse_transform(regressor.predict(sc_X.transform(X_grid))), color = 'blue')\"\n",
    "\n",
    "Important steps to understand:\n",
    "1. plt.plot(X_grid, regressor.predict(X_grid) )\n",
    "\n",
    "This is the original code line. Notice, X_grid is the orignal scale here. So that can be left untouched. \n",
    "\n",
    "\n",
    "2. \"plt.plot(X_grid, regressor.predict(sc_X.transform(X_grid)) )\"\n",
    "\n",
    "We add the above chuck in the predict function because X_grid is in the orginal scale and we want to convert it back into the transformed scale. So we apply the transform function to it.\n",
    "\n",
    "\n",
    "3. \"plt.plot(X_grid, sc_y.inverse_transform(regressor.predict(sc_X.transform(X_grid))) )\"\n",
    "\n",
    "We add the sc_y.inverse_tranform to the regressor because the regressor is in the transformed scale and we need to convert it back into the original scale. \n"
   ]
  },
  {
   "cell_type": "markdown",
   "metadata": {},
   "source": [
    "### This finishes our study on the SVR Model."
   ]
  }
 ],
 "metadata": {
  "kernelspec": {
   "display_name": "Python 3",
   "language": "python",
   "name": "python3"
  },
  "language_info": {
   "codemirror_mode": {
    "name": "ipython",
    "version": 3
   },
   "file_extension": ".py",
   "mimetype": "text/x-python",
   "name": "python",
   "nbconvert_exporter": "python",
   "pygments_lexer": "ipython3",
   "version": "3.8.5"
  }
 },
 "nbformat": 4,
 "nbformat_minor": 4
}
