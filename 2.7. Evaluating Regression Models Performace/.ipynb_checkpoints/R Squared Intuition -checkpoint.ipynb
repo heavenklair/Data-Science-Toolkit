{
 "cells": [
  {
   "cell_type": "markdown",
   "metadata": {},
   "source": [
    "# R Squared and Adjusted R Squared Intuition"
   ]
  },
  {
   "cell_type": "code",
   "execution_count": 5,
   "metadata": {},
   "outputs": [
    {
     "data": {
      "text/plain": [
       "<matplotlib.image.AxesImage at 0x7f94d96ac430>"
      ]
     },
     "execution_count": 5,
     "metadata": {},
     "output_type": "execute_result"
    },
    {
     "data": {
      "image/png": "[encoded data removed]",
      "text/plain": [
       "<Figure size 432x288 with 1 Axes>"
      ]
     },
     "metadata": {
      "needs_background": "light"
     },
     "output_type": "display_data"
    }
   ],
   "source": [
    "import matplotlib.image as mpimg\n",
    "import matplotlib.pyplot as plt\n",
    "image_1 = mpimg.imread('image_1.jpeg')\n",
    "plt.imshow(image_1)"
   ]
  },
  {
   "cell_type": "markdown",
   "metadata": {},
   "source": [
    "The blue line is the regression line, and red line is the average of the y points. \n",
    "\n",
    "Now for the blue line,\n",
    "\n",
    "$$ SS_{res} = \\sum (y_i - \\hat{y}_{i})^2 $$\n",
    "\n",
    "is the sum of residuals of the points. And \n",
    "\n",
    "$$ SS_{total} = \\sum (y_i - \\hat{y}_{avg})^2 $$\n",
    "\n",
    "is the sum of residuals of the red line.\n",
    "\n",
    "Then, R Squared becomes\n",
    "\n",
    "$$ R^2 = 1 - \\frac{SS_{res}}{SS_{total}} $$\n",
    "\n"
   ]
  },
  {
   "cell_type": "markdown",
   "metadata": {},
   "source": [
    " The intention behind to do this that we are trying to fiddle a line to minimize the sum of squares of residuals. R Squared tells us how good is our line (blue one) compared to the average of line (red one). \n",
    " \n",
    " The ideal scenario is when $SS_{res} = 0$, and $R^2 = 1 = R$, but this never happens. Furthermore, the closer R^2 is to 1, the better. \n",
    " \n",
    "Can $R^2$ be negative? YES. It can be negative, for example if $SS_{res}$ fits the data worse than the average line.\n",
    "\n",
    "$R^2$ is normally between 0 and 1."
   ]
  },
  {
   "cell_type": "markdown",
   "metadata": {},
   "source": [
    "# Adjusted $R^2$"
   ]
  },
  {
   "cell_type": "markdown",
   "metadata": {},
   "source": [
    "We talked about $R^2$ for a simple linear regression while the same concept apply for a mutiple linear regression. For example, \n",
    "$$ y = b_0 + b_1 x_1 $$\n",
    "$$ y = b_0 + b_1 x_1 + b_2 x_2 $$"
   ]
  },
  {
   "cell_type": "markdown",
   "metadata": {},
   "source": [
    "$R^2$ will be calculated in the same way as before. $SS_{res}$ is calculated and the minimum valued $SS_{res}$ is choosen. \n",
    "\n",
    "So, we want to use $R^2$ as a goodness of fit. The greater the number, the better it is. But what if we starts to add more and more variables to our model? \n",
    "\n",
    "Let's say we have added another variable to the model, $b_3 x_3$, $SS_{res}$ will not decrease, it can either remain the same, or increase, furthermore decreasing $R^2$. One more thing to notice here is that the new variable $b_3$ will never be zero, thus $SS_{res}$ will never be remain the same, and increase. The will always be a slight random correlation between the independent variable and dependent variable. \n",
    "\n",
    "$R^2$ is baised. It will always increase regardless of the actual improvement or not in the fit. So, we need to come up with a different measure of the fit. Hence, we get Adjusted $R^2$.\n",
    "\n"
   ]
  },
  {
   "cell_type": "markdown",
   "metadata": {},
   "source": [
    "Formula for adjusted $R^2$\n",
    "$$ adj R^2 = 1 - (1-R^2)\\frac{n-1}{n-p-1} $$\n",
    "\n",
    "where p is the number of regressors (# of independent variables)\n",
    "\n",
    "n is the sample size "
   ]
  },
  {
   "cell_type": "markdown",
   "metadata": {},
   "source": [
    "Adjusted $R^2$ has a penalization factor. It penalizes you for adding independent variables that do not help your model.\n",
    "\n",
    "In the formula, p is in the denominator. If p increases, the fraction increases $\\Rightarrow$ the whole formula decreases. \n",
    "\n",
    "When normal $R^2$ increases, $(1-R^2)$ decreases $\\Rightarrow (1-R^2)\\frac{n-1}{n-p-1}$ decreases.\n",
    "\n",
    "So, by adding a variable, we are increasing $R^2$, and increasing p. Both of these quantites battle to give us a appropriate adjusted $R^2$. \n",
    "\n",
    "If our new variable is not helping the model, then $R^2$ will be an unsignificant increase, and $\\frac{n-1}{n-p-1}$ will drive adjusted $R^2$ down.\n",
    "\n",
    "If our new variable is helping the model a lot, then $R^2$ will be an significant increase such that it will overwhelm the penalization factor, $\\frac{n-1}{n-p-1}$ such that adjusted $R^2$ will go up."
   ]
  },
  {
   "cell_type": "code",
   "execution_count": null,
   "metadata": {},
   "outputs": [],
   "source": []
  }
 ],
 "metadata": {
  "kernelspec": {
   "display_name": "Python 3",
   "language": "python",
   "name": "python3"
  },
  "language_info": {
   "codemirror_mode": {
    "name": "ipython",
    "version": 3
   },
   "file_extension": ".py",
   "mimetype": "text/x-python",
   "name": "python",
   "nbconvert_exporter": "python",
   "pygments_lexer": "ipython3",
   "version": "3.8.5"
  }
 },
 "nbformat": 4,
 "nbformat_minor": 4
}
